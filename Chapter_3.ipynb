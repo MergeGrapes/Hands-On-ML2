{
  "nbformat": 4,
  "nbformat_minor": 0,
  "metadata": {
    "kernelspec": {
      "display_name": "Python 3",
      "language": "python",
      "name": "python3"
    },
    "language_info": {
      "codemirror_mode": {
        "name": "ipython",
        "version": 3
      },
      "file_extension": ".py",
      "mimetype": "text/x-python",
      "name": "python",
      "nbconvert_exporter": "python",
      "pygments_lexer": "ipython3",
      "version": "3.6.5"
    },
    "colab": {
      "name": "Chapter 3.ipynb",
      "provenance": [],
      "collapsed_sections": [
        "8qFQdPWbhmcZ",
        "ZNmmM0TVhmca",
        "7U5_x18Thmcb",
        "GPDMh5MchmdR"
      ],
      "include_colab_link": true
    }
  },
  "cells": [
    {
      "cell_type": "markdown",
      "metadata": {
        "id": "view-in-github",
        "colab_type": "text"
      },
      "source": [
        "<a href=\"https://colab.research.google.com/github/MergeGrapes/Hands-On-ML2/blob/master/Chapter_3.ipynb\" target=\"_parent\"><img src=\"https://colab.research.google.com/assets/colab-badge.svg\" alt=\"Open In Colab\"/></a>"
      ]
    },
    {
      "cell_type": "markdown",
      "metadata": {
        "id": "ftbRehOghmbA",
        "colab_type": "text"
      },
      "source": [
        "# Chapter 3 분류\n",
        "\n",
        "# MNIST\n",
        "머신러닝의 hello world 데이터 셋..10만개의 이미지로 구성되어있음!\n",
        "openml에서 다운로드 받아야 한다.\n",
        "픽셀 데이터이며 정수 값이 들어가 있다."
      ]
    },
    {
      "cell_type": "code",
      "metadata": {
        "id": "AveTvemthmbC",
        "colab_type": "code",
        "colab": {
          "base_uri": "https://localhost:8080/",
          "height": 34
        },
        "outputId": "2e3fb7af-e678-4916-be52-0630de1b275e"
      },
      "source": [
        "# mnist dataset openml에서 내려받기\n",
        "from sklearn.datasets import fetch_openml\n",
        "mnist = fetch_openml('mnist_784', version=1)        # as_frame = True (데이터 프레임으로 받겠다~ 지금은 아니니 frame = null)\n",
        "                                                                              #mnist_784라는 아이디를 부여하며 버전1에 해당하는 것을 받겠다.\n",
        "\n",
        "# keys 조회 (딕셔너리 스타일로 값을 가진 bunch 스타일 객체)\n",
        "mnist.keys()"
      ],
      "execution_count": 1,
      "outputs": [
        {
          "output_type": "execute_result",
          "data": {
            "text/plain": [
              "dict_keys(['data', 'target', 'frame', 'feature_names', 'target_names', 'DESCR', 'details', 'categories', 'url'])"
            ]
          },
          "metadata": {
            "tags": []
          },
          "execution_count": 1
        }
      ]
    },
    {
      "cell_type": "markdown",
      "metadata": {
        "id": "Yeggv6YjhmbJ",
        "colab_type": "text"
      },
      "source": [
        "사이킷 런에서 읽어들인 데이터 셋들은 비슷한 딕셔너리 구조를 가지고 있다.\n",
        "\n",
        "* 데이터셋을 설명하는 DESCR키\n",
        "* 샘플이 하나의 행, 특성이 하나의 열로 구성된 배열을 가진 DATA 키\n",
        "* 레이블배열을 담은 TARGET 키"
      ]
    },
    {
      "cell_type": "code",
      "metadata": {
        "id": "7rm_5N9YhmbK",
        "colab_type": "code",
        "colab": {
          "base_uri": "https://localhost:8080/",
          "height": 35
        },
        "outputId": "4a333c00-178b-4854-d6d3-987d384a9720"
      },
      "source": [
        "mnist[\"url\"]   # 얘 데려온 url"
      ],
      "execution_count": 2,
      "outputs": [
        {
          "output_type": "execute_result",
          "data": {
            "application/vnd.google.colaboratory.intrinsic+json": {
              "type": "string"
            },
            "text/plain": [
              "'https://www.openml.org/d/554'"
            ]
          },
          "metadata": {
            "tags": []
          },
          "execution_count": 2
        }
      ]
    },
    {
      "cell_type": "code",
      "metadata": {
        "id": "V290faMQhmbQ",
        "colab_type": "code",
        "colab": {
          "base_uri": "https://localhost:8080/",
          "height": 34
        },
        "outputId": "0cc5e2ce-55c9-498c-f805-d470068fa3c5"
      },
      "source": [
        "# 배열 살피기 (2차원)\n",
        "# X와 y에 data와 target값을 받고 X먼저 조회하기\n",
        "\n",
        "X, y = mnist[\"data\"], mnist[\"target\"]\n",
        "X.shape\n",
        "\n",
        "# 행이 70000개고 열이 784개이다~\n",
        "# 70000개 샘플이 있고 784개 특성이 있구나~(픽셀이 28*28이라..)"
      ],
      "execution_count": 3,
      "outputs": [
        {
          "output_type": "execute_result",
          "data": {
            "text/plain": [
              "(70000, 784)"
            ]
          },
          "metadata": {
            "tags": []
          },
          "execution_count": 3
        }
      ]
    },
    {
      "cell_type": "code",
      "metadata": {
        "id": "Q98qs_9IhmbZ",
        "colab_type": "code",
        "colab": {
          "base_uri": "https://localhost:8080/",
          "height": 34
        },
        "outputId": "aec15aed-c37c-4027-9b73-eb00e5b435f8"
      },
      "source": [
        "y.shape\n",
        "\n",
        "# 이미지가 70000개 있고 이미지의 특성이 784개 있다는 뜻이다.\n",
        "# 이미지의 픽셀이 28*28픽셀이기 때문이다."
      ],
      "execution_count": 4,
      "outputs": [
        {
          "output_type": "execute_result",
          "data": {
            "text/plain": [
              "(70000,)"
            ]
          },
          "metadata": {
            "tags": []
          },
          "execution_count": 4
        }
      ]
    },
    {
      "cell_type": "code",
      "metadata": {
        "id": "sa1IDERohmbe",
        "colab_type": "code",
        "colab": {
          "base_uri": "https://localhost:8080/",
          "height": 248
        },
        "outputId": "a04b0349-159d-44d1-a38c-b7ab1f883f0b"
      },
      "source": [
        "import matplotlib as mpl\n",
        "import matplotlib.pyplot as plt\n",
        "\n",
        "some_digit = X[0]          # 이미지 한 놈을 some_digit에다 넣어주고...(얘가 numpy인데 바꿔줘야지)\n",
        "some_digit_image = some_digit.reshape(28, 28)     # 샘플의 특성 벡터를 추출해 28*28 배열로 크기 바꾸기\n",
        "\n",
        "plt.imshow(some_digit_image, cmap = \"binary\")     # imshow로 조회하기  # binary(보기 편하게 흑백값 반전)\n",
        "plt.axis(\"off\")\n",
        "plt.show()"
      ],
      "execution_count": 5,
      "outputs": [
        {
          "output_type": "display_data",
          "data": {
            "image/png": "[encoded data removed]",
            "text/plain": [
              "<Figure size 432x288 with 1 Axes>"
            ]
          },
          "metadata": {
            "tags": [],
            "needs_background": "light"
          }
        }
      ]
    },
    {
      "cell_type": "code",
      "metadata": {
        "id": "vt3bxSxhhmbi",
        "colab_type": "code",
        "colab": {
          "base_uri": "https://localhost:8080/",
          "height": 35
        },
        "outputId": "032dbf57-3b7c-4d8e-cade-883570860015"
      },
      "source": [
        "y[0]\n",
        "\n",
        "# y이 첫번째 레이블(클래스 확인~)\n",
        "# 실제 데이터 특성도 5 (레이블)"
      ],
      "execution_count": 6,
      "outputs": [
        {
          "output_type": "execute_result",
          "data": {
            "application/vnd.google.colaboratory.intrinsic+json": {
              "type": "string"
            },
            "text/plain": [
              "'5'"
            ]
          },
          "metadata": {
            "tags": []
          },
          "execution_count": 6
        }
      ]
    },
    {
      "cell_type": "code",
      "metadata": {
        "id": "o74slfp9hmbo",
        "colab_type": "code",
        "colab": {}
      },
      "source": [
        "import numpy as np\n",
        "\n",
        "y = y.astype(np.uint8)  # 정수 배열로 바꿔서 확인할 것이다"
      ],
      "execution_count": 7,
      "outputs": []
    },
    {
      "cell_type": "code",
      "metadata": {
        "id": "S29YcxNvhmbv",
        "colab_type": "code",
        "colab": {}
      },
      "source": [
        "def plot_digit(data):\n",
        "    image = data.reshape(28, 28)\n",
        "    plt. imshow(image, cmap=mpl.cm.binary,\n",
        "               interpolation=\"nearest\")\n",
        "    plt. axis(\"off\")"
      ],
      "execution_count": 8,
      "outputs": []
    },
    {
      "cell_type": "code",
      "metadata": {
        "id": "aCmfv7Clhmb0",
        "colab_type": "code",
        "colab": {}
      },
      "source": [
        "# 숫자 그림을 위한 추가 함수\n",
        "def plot_digits(instances, images_per_row=10, **options):\n",
        "    size=28\n",
        "    images_per_row = min(len(instances), images_per_row)\n",
        "    images = [instance.reshape(size, size) for instance in instances]\n",
        "    n_rows = (len(instances) - 1) // images_per_row + 1\n",
        "    row_images = []\n",
        "    n_empty = n_rows * images_per_row - len(instances)\n",
        "    images.append(np.zeros((size, size*n_empty)))\n",
        "    for row in range(n_rows) : \n",
        "        rimages = images[row * images_per_row : (row + 1) * images_per_row]\n",
        "        row_images.append(np.concatenate(rimages, axis=1))\n",
        "    image = np.concatenate(row_images, axis=0)\n",
        "    plt.imshow(image, cmap=mpl.cm.binary, **options)\n",
        "    plt.axis(\"off\")"
      ],
      "execution_count": 9,
      "outputs": []
    },
    {
      "cell_type": "code",
      "metadata": {
        "id": "IIM98Yjhhmb4",
        "colab_type": "code",
        "colab": {
          "base_uri": "https://localhost:8080/",
          "height": 520
        },
        "outputId": "99d3c98a-16b5-4b67-e8ce-c180d79e12dc"
      },
      "source": [
        "plt.figure(figsize=(9,9))\n",
        "example_images = X[:100]\n",
        "plot_digits(example_images, images_per_row=10)\n",
        "plt.show()"
      ],
      "execution_count": 10,
      "outputs": [
        {
          "output_type": "display_data",
          "data": {
            "image/png": "[encoded data removed]",
            "text/plain": [
              "<Figure size 648x648 with 1 Axes>"
            ]
          },
          "metadata": {
            "tags": [],
            "needs_background": "light"
          }
        }
      ]
    },
    {
      "cell_type": "code",
      "metadata": {
        "id": "jJUK4xcvhmb9",
        "colab_type": "code",
        "colab": {
          "base_uri": "https://localhost:8080/",
          "height": 34
        },
        "outputId": "915955ba-841a-4c10-e15e-88ca8788d389"
      },
      "source": [
        "y[0]  # integer로 잘 바뀌었군~"
      ],
      "execution_count": 11,
      "outputs": [
        {
          "output_type": "execute_result",
          "data": {
            "text/plain": [
              "5"
            ]
          },
          "metadata": {
            "tags": []
          },
          "execution_count": 11
        }
      ]
    },
    {
      "cell_type": "code",
      "metadata": {
        "id": "cqYetzJMhmcD",
        "colab_type": "code",
        "colab": {}
      },
      "source": [
        "# 훈련셋 확인해서 스플릿~\n",
        "X_train, X_test, y_train, y_test = X[:60000], X[60000:], y[:60000], y[60000:]\n",
        "\n",
        "# 훈련 세트는 이미 섞여 있기 때문에 모든 교차 검증 폴드가 비슷해진다.\n",
        "# 어떤 학습 알고리즘은 훈련 샘플 순서에 민감해서 많은 비슷한 샘플이 있을 경우 성능이 나빠진다.\n",
        "# 데이터셋을 섞으면 이런 문제를 방지할 수 있다.\n",
        "# 그러나 주식 가격 같은 시계열 데이터는 오히려 섞지 않는 것이 나을 수 있다.\n",
        "\n",
        "#SGDClassifier, SGDRegressor는 기본적으로 에포크(max_iter)마다 데이터를 다시 섞는다."
      ],
      "execution_count": 12,
      "outputs": []
    },
    {
      "cell_type": "markdown",
      "metadata": {
        "id": "MYSz_CwjhmcI",
        "colab_type": "text"
      },
      "source": [
        "# 3.2 이진 분류기 훈련\n",
        "숫자 '5' 가 있다면 '5-감지기'와 '5 아님' 두 개의 클래스를 구분할 수 있는 것이 이진 분류기의 예이다. "
      ]
    },
    {
      "cell_type": "code",
      "metadata": {
        "id": "DnlvG2yqhmcJ",
        "colab_type": "code",
        "colab": {}
      },
      "source": [
        "y_train_5 = (y_train == 5)        # 5만 true이고 나머지는 false (이진분류기 만들기~)\n",
        "y_test_5 = (y_test == 5)"
      ],
      "execution_count": 13,
      "outputs": []
    },
    {
      "cell_type": "markdown",
      "metadata": {
        "id": "-717GWmthmcO",
        "colab_type": "text"
      },
      "source": [
        "## SGDClassifier\n",
        "SGD : 확률적 경사 하강법 (Stochastic Gradient Descent)\n",
        "- 매우 큰 데이터셋도 효율적으로 처리한다.\n",
        "- 한번에 하나씩 훈련 샘플을 독립적으로 처리한다.\n",
        "- 온라인 학습에 잘 들어맞는다."
      ]
    },
    {
      "cell_type": "code",
      "metadata": {
        "id": "bqIdfX2shmcP",
        "colab_type": "code",
        "colab": {
          "base_uri": "https://localhost:8080/",
          "height": 118
        },
        "outputId": "3b698c21-e903-40b2-c581-f550b2662b10"
      },
      "source": [
        "# SGDClassifier 만들고 적용시켜보기\n",
        "# 이거 쓰면서 여러가지 분류 모델 만들 수 있땅\n",
        "\n",
        "from sklearn. linear_model import SGDClassifier\n",
        "\n",
        "sgd_clf = SGDClassifier(random_state = 42)       # sgd_clf는 SGDClassifier로 만들고\n",
        "sgd_clf.fit(X_train, y_train_5)                              # .fit 적용해서 X_train, y_train_5를 사용하는 함수로 만들어줘\n",
        "\n",
        "# 아까 만든 분류기 집어넣었다\n",
        "# SGDClassifier는 훈련하는데에 무작위성을 사용한다. 동일한 결과를 재현하고 싶다면 random_state매개변수를 지정한다."
      ],
      "execution_count": 14,
      "outputs": [
        {
          "output_type": "execute_result",
          "data": {
            "text/plain": [
              "SGDClassifier(alpha=0.0001, average=False, class_weight=None,\n",
              "              early_stopping=False, epsilon=0.1, eta0=0.0, fit_intercept=True,\n",
              "              l1_ratio=0.15, learning_rate='optimal', loss='hinge',\n",
              "              max_iter=1000, n_iter_no_change=5, n_jobs=None, penalty='l2',\n",
              "              power_t=0.5, random_state=42, shuffle=True, tol=0.001,\n",
              "              validation_fraction=0.1, verbose=0, warm_start=False)"
            ]
          },
          "metadata": {
            "tags": []
          },
          "execution_count": 14
        }
      ]
    },
    {
      "cell_type": "code",
      "metadata": {
        "id": "yTupShi6hmcU",
        "colab_type": "code",
        "colab": {
          "base_uri": "https://localhost:8080/",
          "height": 34
        },
        "outputId": "40355288-576c-4eb0-b2cd-9a396443604f"
      },
      "source": [
        "sgd_clf.predict([some_digit])\n",
        "\n",
        "# 아까 some_digit는 1차원 배열인데 기본적으로 함수가 2차원 배열로 돌아가므로 [리스트] 로 감싸준다.\n",
        "# 아까 샘플 넣고 돌리면 true라고 잘 예측 함\n",
        "# true 값이 나오므로 분류기는 이 값이 5를 나타낸다고 추측한 것!"
      ],
      "execution_count": 16,
      "outputs": [
        {
          "output_type": "execute_result",
          "data": {
            "text/plain": [
              "array([ True])"
            ]
          },
          "metadata": {
            "tags": []
          },
          "execution_count": 16
        }
      ]
    },
    {
      "cell_type": "markdown",
      "metadata": {
        "id": "8qFQdPWbhmcZ",
        "colab_type": "text"
      },
      "source": [
        "## 퍼셉트론\n",
        "![perceptron_1](perceptron_1.png)\n",
        "\n",
        "퍼셉트론(perceptron)은 가장 오래되고 단순한 형태의 판별함수기반 분류모형 중 하나이다.\n",
        "퍼셉트론은 입력  x=(1,x1,⋯,xm) 에 대해 1 또는 -1의 값을 가지는  y 를 출력하는 비선형 함수이다. 1을 포함하는 입력 요소  xi 에 대해 가중치  wi 를 곱한 값  a=wTx 을 활성화값(activations)이라고 하며 이 값이 판별함수의 역할을 한다.\n",
        "\n",
        "a=wTx\n",
        "\n",
        "판별 함수 값이 활성화함수(activation function) h(a)를 지나면 분류 결과를 나타내는 출력 y^가 생성된다.\n",
        "\n",
        "y^=h(wTx)\n",
        "\n",
        "퍼셉트론의 활성화 함수는 부호함수(sign function) 또는 단위계단함수(Heaviside step function)라고 부르는 함수이다.\n",
        "\n",
        "h(a)={(−1,1),(a<0,a≥0)\n"
      ]
    },
    {
      "cell_type": "markdown",
      "metadata": {
        "id": "ZNmmM0TVhmca",
        "colab_type": "text"
      },
      "source": [
        "## 퍼셉트론 손실함수\n",
        "\n",
        "x, y = 독립변수, 종속변수\n",
        "w = 가중치(예측 오차 최소화하는)\n",
        "L = 전체 예측 오차 (가중치값에 따라 달라지는)\n",
        "\n",
        "다음과 같이  N 개의 학습용 데이터가 있다고 하자.\n",
        "\n",
        "(x1,y1),(x2,y2),…,(xi,yi),…,(xN,yN)\n",
        " \n",
        "퍼셉트론은 독립변수  x 로부터 종속변수  y 를 예측하는 예측 모형이므로 모든 학습 데이터에 대해 예측 오차를 최소화하는 가중치  w 를 계산해야 한다. 가중치  w 에 따라 달라지는 전체 예측 오차  L 는  i 번째 개별 데이터에 대한 손실함수  Li(y^i,yi) 의 합으로 표현할 수 있다.\n",
        "\n",
        "![L](L.png)\n",
        "\n",
        "손실  Li(yi,y^i) 는 실제값  y 와 예측값  y^ 의 차이를 나타내는 함수이다. 회귀 분석에서는  L(y^,y)=−(y−y^)2 과 같은 손실함수를 많이 사용하였지만 퍼셉트론의 경우에는 다음과 같은 손실 함수를 사용한다. 이를 제로-원 손실함수(zero-one loss function)이라고 한다.\n",
        "\n",
        "![zero_one_loss_fun](zero_one_loss_fun.png)\n",
        "\n",
        "제로-원 손실함수  Li 은  y^ 과  y 가 같으면 0이고 다르면 1이다. 다음처럼 서술할 수도 있다.\n",
        "\n",
        "![zero_one_loss_fun2](zero_one_loss_fun2.png)\n",
        "\n",
        "그런데 제로-원 손실함수를 쓰면  y^(x) 가  x 에 대한 계단형 함수이므로 대부분의 영역에서 기울기가 0이 되어 미분값으로부터 최소점의 위치를 구할 수 없다. 따라서 퍼셉트론에서는  y^  대신 활성화값  wTx 를 손실함수로 사용한다.\n",
        "\n",
        "![zero_one_loss_fun3](zero_one_loss_fun3.png)\n",
        "\n",
        "이를 퍼셉트론 손실함수(perceptron loss function) 또는 0-힌지 손실함수(zero-hinge loss function)라고 한다. 여기에서 손실값은 오분류된 표본에 대해서만 계산한다는 점에 주의하라. 이 때는  y 와  sgn(y^) 값이 다르면 오분류된 것이다.\n",
        "\n",
        "![zero_one_loss_fun4.png](zero_one_loss_fun4.png)\n",
        "\n",
        "https://datascienceschool.net/view-notebook/342b8e2ecf7a4911a727e6fe97f4ab6b/\n",
        "\n",
        "퍼셉트론 손실함수는 다음처럼 표기할 수도 있다.\n",
        "\n",
        "![perloss.png](perloss.png)\n"
      ]
    },
    {
      "cell_type": "markdown",
      "metadata": {
        "id": "7U5_x18Thmcb",
        "colab_type": "text"
      },
      "source": [
        "## SGD\n",
        "\n",
        "SGD(Stochastic Gradient Descent) 방법은 손실함수 자체가 아니라 손실함수의 기댓값을 최소하는 방법이다.\n"
      ]
    },
    {
      "cell_type": "markdown",
      "metadata": {
        "id": "neYqB4mGhmcc",
        "colab_type": "text"
      },
      "source": [
        "# 3.3 성능 측정\n",
        "\n",
        "분류기 평가는 회귀모델보다 어렵다. 사용할 수 있는 성능 지표가 많으니 여유롭게 둘러보자\n",
        "\n",
        "## 3.3.1 교차 검증을 사용한 정확도 측정\n",
        "\n",
        "### 교차 검증 구현\n",
        "사이킷런이 제공하는 기능보다 교차 검증 과정을 더 많이 제어해야 할 필요가 있다. 이때는 교차 검증 기능을 직접 구현하면 된다. 다음 코드는 사이킷 런의 cross_val_score() 함수와 비슷한 작업을 수행하고 동일한 결과를 출력한다. 잘 보자"
      ]
    },
    {
      "cell_type": "code",
      "metadata": {
        "scrolled": true,
        "id": "YAq6aFh6hmcf",
        "colab_type": "code",
        "colab": {
          "base_uri": "https://localhost:8080/",
          "height": 121
        },
        "outputId": "11fb85dd-7b2c-43d4-9d2b-ceb7c204cedb"
      },
      "source": [
        "from sklearn.model_selection import StratifiedKFold  # 이친구는 클래스별 비율이 유지되도록 폴드를 만들기 위해 계층적 샘플링을 수행한다. \n",
        "from sklearn.base import clone\n",
        "\n",
        "skfolds = StratifiedKFold(n_splits = 3, random_state = 42)  # 훈련 세트를 3개의 폴드로 나누자\n",
        "# cross_val_score(gd_clf, X_train, y_train_5, cv=skfolds)  # 이렇게 하면 skf사용해서 3겹 교차검증 사용 가능\n",
        "\n",
        "for train_index, test_index in skfolds.split(X_train, y_train_5):\n",
        "    clone_clf = clone(sgd_clf)\n",
        "    X_train_folds = X_train[train_index]\n",
        "    y_train_folds = y_train_5[train_index]\n",
        "    X_test_fold = X_train[test_index]\n",
        "    y_test_fold = y_train_5[test_index]\n",
        "    \n",
        "    clone_clf.fit(X_train_folds, y_train_folds)\n",
        "    y_pred = clone_clf.predict(X_test_fold)\n",
        "    n_correct = sum(y_pred == y_test_fold)\n",
        "    \n",
        "    print(n_correct / len(y_pred))"
      ],
      "execution_count": 17,
      "outputs": [
        {
          "output_type": "stream",
          "text": [
            "/usr/local/lib/python3.6/dist-packages/sklearn/model_selection/_split.py:296: FutureWarning: Setting a random_state has no effect since shuffle is False. This will raise an error in 0.24. You should leave random_state to its default (None), or set shuffle=True.\n",
            "  FutureWarning\n"
          ],
          "name": "stderr"
        },
        {
          "output_type": "stream",
          "text": [
            "0.95035\n",
            "0.96035\n",
            "0.9604\n"
          ],
          "name": "stdout"
        }
      ]
    },
    {
      "cell_type": "code",
      "metadata": {
        "id": "vbIERm3jhmck",
        "colab_type": "code",
        "colab": {
          "base_uri": "https://localhost:8080/",
          "height": 34
        },
        "outputId": "b1d4861e-c48d-406c-ef49-eefd1d3bfd71"
      },
      "source": [
        "# cross_val_score() 함수로 폴드 3개인 k겹 교차 검증 사용해 SGDClassifier 모델 평가하기 \n",
        "\n",
        "from sklearn.model_selection import cross_val_score\n",
        "cross_val_score(sgd_clf, X_train, y_train_5, cv=3, scoring=\"accuracy\")   #accuracy 정확도를 보겠다고 한건데 디폴트값\n",
        "\n",
        "\n",
        "# 다 95%가 넘는 점수 ㄷㄷ 정확도가 95%라는 소리다\n",
        "# 근데 전체 샘플 중 5가 아닌게 90%이므로 해당 점수는 딱히 좋은게 아니다"
      ],
      "execution_count": 18,
      "outputs": [
        {
          "output_type": "execute_result",
          "data": {
            "text/plain": [
              "array([0.95035, 0.96035, 0.9604 ])"
            ]
          },
          "metadata": {
            "tags": []
          },
          "execution_count": 18
        }
      ]
    },
    {
      "cell_type": "code",
      "metadata": {
        "id": "ovXZq70ihmc2",
        "colab_type": "code",
        "colab": {}
      },
      "source": [
        "from sklearn.base import BaseEstimator\n",
        "\n",
        "class Never5Classifier(BaseEstimator):\n",
        "    def fit(self, X, y=None):\n",
        "        return self\n",
        "    def predict(self, X):\n",
        "        return np.zeros((len(X), 1), dtype=bool)"
      ],
      "execution_count": 19,
      "outputs": []
    },
    {
      "cell_type": "code",
      "metadata": {
        "id": "98G9BsCIhmc9",
        "colab_type": "code",
        "colab": {
          "base_uri": "https://localhost:8080/",
          "height": 34
        },
        "outputId": "d179d93a-866b-49a1-ca19-ed6dccec2edd"
      },
      "source": [
        "never_5_clf = Never5Classifier()\n",
        "cross_val_score(never_5_clf, X_train, y_train_5, cv=3, scoring=\"accuracy\")\n",
        "\n",
        "#정확도만으로 모델의 좋고 나쁨을 파악하기는 어렵다(불균형한 데이터셋)\n",
        "#5가 너무 적으니깐..\n",
        "# 무조건 5 아님' 으로 예측하면 90% 이상의 정확도가 나온다는 이유"
      ],
      "execution_count": 20,
      "outputs": [
        {
          "output_type": "execute_result",
          "data": {
            "text/plain": [
              "array([0.91125, 0.90855, 0.90915])"
            ]
          },
          "metadata": {
            "tags": []
          },
          "execution_count": 20
        }
      ]
    },
    {
      "cell_type": "markdown",
      "metadata": {
        "id": "SywnQjM9hmdB",
        "colab_type": "text"
      },
      "source": [
        "## 3.3.2 오차행렬\n",
        "클래스A의 샘플이 클래스 B로 잘못 분류된 횟수를 세는 방법이다.\n",
        "\n",
        "숫자 5가 3으로 잘못 분류된 횟수를 알고 싶다면 오차 행렬의 5행 3열을 조회하는 방식\n",
        "\n",
        "오차 행렬을 만들려면..\n",
        "* 실제 타깃과 비교할 수 있도록 예측값을 먼저 만든다\n",
        "* 테스트 세트로 예측 만들 수 있어도 여기서 사용하지 않는다\n",
        "* cross_val_predict() 함수는 사용 가능하다"
      ]
    },
    {
      "cell_type": "code",
      "metadata": {
        "id": "Milc5xrGhmdC",
        "colab_type": "code",
        "colab": {}
      },
      "source": [
        "from sklearn.model_selection import cross_val_predict\n",
        "\n",
        "y_train_pred = cross_val_predict(sgd_clf, X_train, y_train_5, cv=3)"
      ],
      "execution_count": 21,
      "outputs": []
    },
    {
      "cell_type": "markdown",
      "metadata": {
        "id": "dk9cisGmhmdG",
        "colab_type": "text"
      },
      "source": [
        "##### cross_val_predict\n",
        "이 함수는  cross_val_score함수처럼 k겹 교차검증을 진행하나 평가 점수를 반환하지는 않고 각 테스트 폴드의 예측을 반환한다.  훈련 세트의 모든 샘플에 대해 깨끗한 예측을 얻게 되는 것.(훈련 동안 보지 못한 데이터에 대해 예측)"
      ]
    },
    {
      "cell_type": "code",
      "metadata": {
        "id": "W3jPo8mShmdG",
        "colab_type": "code",
        "colab": {
          "base_uri": "https://localhost:8080/",
          "height": 50
        },
        "outputId": "9eb9084a-af71-4625-cf15-69ddeeabe884"
      },
      "source": [
        "# confusion_matrix() 함수를 이용해 오차 행렬을 만들자 타깃클래스(y_train_5)와 예측 클래스(y_train_pred) 넣기\n",
        "\n",
        "from sklearn.metrics import confusion_matrix\n",
        "confusion_matrix(y_train_5, y_train_pred)"
      ],
      "execution_count": 22,
      "outputs": [
        {
          "output_type": "execute_result",
          "data": {
            "text/plain": [
              "array([[53892,   687],\n",
              "       [ 1891,  3530]])"
            ]
          },
          "metadata": {
            "tags": []
          },
          "execution_count": 22
        }
      ]
    },
    {
      "cell_type": "markdown",
      "metadata": {
        "id": "o9B8nD28hmdK",
        "colab_type": "text"
      },
      "source": [
        "오차 행렬의 행은 실제 클래스를 나타내고, 열은 예측한 클래스를 나타낸다. 이 행렬의 첫 행은 '5가 아닌 숫자를 53892개를 5가 아닌 것으로 정확히 분류했고, 687개는 5가 아닌데 5라고 잘못 분류했다.\n",
        "\n",
        "두 번째 행은 5인데 5아님으로 1891개로 잘못 분류했고, 나머지 3530개를 5인데 정확히 5라고 분류했다.\n",
        "\n",
        "(찐음, 짭양)\n",
        "(짭음, 찐양)"
      ]
    },
    {
      "cell_type": "code",
      "metadata": {
        "id": "avXuWmfzhmdK",
        "colab_type": "code",
        "colab": {
          "base_uri": "https://localhost:8080/",
          "height": 50
        },
        "outputId": "99a9b63a-6df2-4f69-ce12-71858a79b9a4"
      },
      "source": [
        "y_train_perfect_predictions = y_train_5      #완벽한 분류기일 경우\n",
        "confusion_matrix(y_train_5, y_train_perfect_predictions)"
      ],
      "execution_count": 23,
      "outputs": [
        {
          "output_type": "execute_result",
          "data": {
            "text/plain": [
              "array([[54579,     0],\n",
              "       [    0,  5421]])"
            ]
          },
          "metadata": {
            "tags": []
          },
          "execution_count": 23
        }
      ]
    },
    {
      "cell_type": "markdown",
      "metadata": {
        "id": "GPDMh5MchmdR",
        "colab_type": "text"
      },
      "source": [
        "#### 정밀도란?\n",
        "TP(찐양)/(TP+FP), 즉 양성이라고 '예측한' 놈들 중에 진짜 양성이었던 친구들의 비율 가지고 정밀도라~하는 것이다..\n",
        "\n",
        "#### 재현율이란?\n",
        "TP/(TP+FN), 즉 진짜양성이랑 거짓음성(그니까 실제로 양성인) 친구들  = '실제로'값이 양성인 애들 중에서 찐으로 판명난 비율을 가지고 재현율이라~한다.\n"
      ]
    },
    {
      "cell_type": "markdown",
      "metadata": {
        "id": "wQqtzDRNhmdT",
        "colab_type": "text"
      },
      "source": [
        "## 3.3.3 정밀도와 재현율\n",
        "위의 친구들을 토대로 나가보자~ 이말이야~"
      ]
    },
    {
      "cell_type": "code",
      "metadata": {
        "id": "sjF5Wf-LhmdU",
        "colab_type": "code",
        "colab": {
          "base_uri": "https://localhost:8080/",
          "height": 34
        },
        "outputId": "97184ead-c7d2-40eb-cce3-cdb9868a1e86"
      },
      "source": [
        "# 정밀도\n",
        "from sklearn.metrics import precision_score, recall_score\n",
        "\n",
        "precision_score(y_train_5, y_train_pred)    #3530/(3530+687) 정밀도! "
      ],
      "execution_count": 24,
      "outputs": [
        {
          "output_type": "execute_result",
          "data": {
            "text/plain": [
              "0.8370879772350012"
            ]
          },
          "metadata": {
            "tags": []
          },
          "execution_count": 24
        }
      ]
    },
    {
      "cell_type": "code",
      "metadata": {
        "id": "jagCr4-MhmdY",
        "colab_type": "code",
        "colab": {
          "base_uri": "https://localhost:8080/",
          "height": 34
        },
        "outputId": "1c43fed3-b9cc-47d9-8417-4ca69d78b97b"
      },
      "source": [
        "# 재현율\n",
        "\n",
        "recall_score(y_train_5, y_train_pred)        #3530/(3530+1892)\n",
        "\n",
        "# 아까 90퍼라 그러더니 이거 뭐냐\n",
        "# 여튼 정밀도와 재현율 2개의 지표가 있는데 F1이라는 다른 것도 있다."
      ],
      "execution_count": 25,
      "outputs": [
        {
          "output_type": "execute_result",
          "data": {
            "text/plain": [
              "0.6511713705958311"
            ]
          },
          "metadata": {
            "tags": []
          },
          "execution_count": 25
        }
      ]
    },
    {
      "cell_type": "markdown",
      "metadata": {
        "id": "e_gnu9fShmdf",
        "colab_type": "text"
      },
      "source": [
        "### F1 점수~\n",
        "\n",
        "TP / [TP+{(FN+FP)/2}] 라고 계산해도 되고,\n",
        "\n",
        "2(정밀도 * 재현율) / (정밀도+재현율) 해도 된다"
      ]
    },
    {
      "cell_type": "code",
      "metadata": {
        "id": "2ZozhYtchmdf",
        "colab_type": "code",
        "colab": {
          "base_uri": "https://localhost:8080/",
          "height": 34
        },
        "outputId": "7deb566a-f210-4974-f27e-3f902f9c0c1d"
      },
      "source": [
        "# F1점수\n",
        "\n",
        "from sklearn.metrics import f1_score\n",
        "f1_score(y_train_5, y_train_pred)"
      ],
      "execution_count": 26,
      "outputs": [
        {
          "output_type": "execute_result",
          "data": {
            "text/plain": [
              "0.7325171197343846"
            ]
          },
          "metadata": {
            "tags": []
          },
          "execution_count": 26
        }
      ]
    },
    {
      "cell_type": "markdown",
      "metadata": {
        "id": "bN_rG_M1hmdj",
        "colab_type": "text"
      },
      "source": [
        "안타깝게도 정밀도와 재현율을 모두 높일 수는 없다..이런걸 정밀도/재현율 트레이트 오프라고 한다"
      ]
    },
    {
      "cell_type": "markdown",
      "metadata": {
        "id": "WpGTIuodhmdk",
        "colab_type": "text"
      },
      "source": [
        "## 3.3.4 정밀도/재현율 트레이드 오프\n",
        "\n",
        "SGDClassifier, 이 분류기는 결정함수를 사용해서 각 샘플의 점수를 계산한다. 이 점수가 임곗값보다 크다면, 샘플은 양성 클래스에 할당하고, 임곗값보다 크지 않다면 음성 클래스에 할당한다.\n",
        "\n",
        "사이킷 런에서 임곗값을 직접 지정할 수는 없지만, 예측에 사용한 점수는 또 확인할 수 있다!\n",
        "\n",
        "분휴기의 predict() 대신 decision_function()메서드를 호출해서 각 샘플의 점수를 얻어보자. 그리고 이 점수를 기반으로 원하는 임곗값을 정해 예측을 만들 수 있따."
      ]
    },
    {
      "cell_type": "code",
      "metadata": {
        "id": "_hLtlMtvhmdk",
        "colab_type": "code",
        "colab": {
          "base_uri": "https://localhost:8080/",
          "height": 34
        },
        "outputId": "5e39b3a8-b4ed-41b4-de05-b75216eafac9"
      },
      "source": [
        "y_scores = sgd_clf.decision_function([some_digit])\n",
        "y_scores"
      ],
      "execution_count": 27,
      "outputs": [
        {
          "output_type": "execute_result",
          "data": {
            "text/plain": [
              "array([2164.22030239])"
            ]
          },
          "metadata": {
            "tags": []
          },
          "execution_count": 27
        }
      ]
    },
    {
      "cell_type": "code",
      "metadata": {
        "id": "yonrIG20hmdn",
        "colab_type": "code",
        "colab": {
          "base_uri": "https://localhost:8080/",
          "height": 34
        },
        "outputId": "ad3ee5f3-8e1f-4436-bae9-dd49cb114329"
      },
      "source": [
        "threshold = 0\n",
        "y_some_digit_pred = (y_scores > threshold)\n",
        "y_some_digit_pred\n",
        "\n",
        "# 아까 수가 2000이 넘는데 양수지? 0보다 크니까 true값이 나왔다\n",
        "# 8000으로 높이면 false 나오지 뭐"
      ],
      "execution_count": 28,
      "outputs": [
        {
          "output_type": "execute_result",
          "data": {
            "text/plain": [
              "array([ True])"
            ]
          },
          "metadata": {
            "tags": []
          },
          "execution_count": 28
        }
      ]
    },
    {
      "cell_type": "code",
      "metadata": {
        "id": "QeTa-1Uqhmdt",
        "colab_type": "code",
        "colab": {
          "base_uri": "https://localhost:8080/",
          "height": 34
        },
        "outputId": "2cc7e31b-c367-4d3c-949d-b7c4b53b5ec9"
      },
      "source": [
        "threshold = 8000\n",
        "y_some_digit_pred = (y_scores > threshold)\n",
        "y_some_digit_pred\n",
        "\n",
        "# 당연히 8000이면 false 나오지..^^;;\n",
        "# 임곗값을 높이면 재현율이 줄어드는거 보이니\n",
        "# 적당한 임곗값은 어떻게 설정할까-> cross_val_predict로 모든 샘플 점수 구하기"
      ],
      "execution_count": 29,
      "outputs": [
        {
          "output_type": "execute_result",
          "data": {
            "text/plain": [
              "array([False])"
            ]
          },
          "metadata": {
            "tags": []
          },
          "execution_count": 29
        }
      ]
    },
    {
      "cell_type": "code",
      "metadata": {
        "id": "7GIezKEPhmd1",
        "colab_type": "code",
        "colab": {}
      },
      "source": [
        "# cross_val_predict 로 모든 샘플 점수 구하기\n",
        "# 이번엔, 예측결과가 아니라 결정 점수를 반환하도록!!\n",
        "\n",
        "y_scores = cross_val_predict(sgd_clf, X_train, y_train_5, cv=3,\n",
        "                            method=\"decision_function\")\n",
        "\n",
        "# 이 점수로 precision_recall_curve() \n",
        "# 함수를 사용해 가능한 모든 임곗값에 대해 정밀도와 재현율을 계산할 수 있다규!"
      ],
      "execution_count": 30,
      "outputs": []
    },
    {
      "cell_type": "code",
      "metadata": {
        "id": "atNE6n0yhmd5",
        "colab_type": "code",
        "colab": {}
      },
      "source": [
        "from sklearn.metrics import precision_recall_curve\n",
        "\n",
        "precisions, recalls, thresholds, = precision_recall_curve(y_train_5, y_scores)"
      ],
      "execution_count": 31,
      "outputs": []
    },
    {
      "cell_type": "code",
      "metadata": {
        "id": "gWaO0uwPhmd9",
        "colab_type": "code",
        "colab": {
          "base_uri": "https://localhost:8080/",
          "height": 288
        },
        "outputId": "e5eef77c-4af3-459d-fefd-4c9a577fc89b"
      },
      "source": [
        "def plot_precision_recall_vs_threshold(precisions, recalls, thresholds):\n",
        "    plt.plot(thresholds, precisions[:-1], \"b--\", label=\"Precision\", linewidth=2)\n",
        "    plt.plot(thresholds, recalls[:-1], \"g-\", label=\"Recall\", linewidth=2)\n",
        "     # 임곗값을 표시하고 범례, 축 이름, 그리드를 추가합니다\n",
        "    plt.legend(loc=\"center right\", fontsize=16)\n",
        "    plt.xlabel(\"Threshold\", fontsize=16)\n",
        "    plt.grid(True)\n",
        "    plt.axis([-50000,50000,0,1])\n",
        "    \n",
        "plot_precision_recall_vs_threshold(precisions, recalls, thresholds)\n",
        "plt.show()"
      ],
      "execution_count": 33,
      "outputs": [
        {
          "output_type": "display_data",
          "data": {
            "image/png": "[encoded data removed]",
            "text/plain": [
              "<Figure size 432x288 with 1 Axes>"
            ]
          },
          "metadata": {
            "tags": [],
            "needs_background": "light"
          }
        }
      ]
    },
    {
      "cell_type": "code",
      "metadata": {
        "id": "JQWT23EFhmeC",
        "colab_type": "code",
        "colab": {
          "base_uri": "https://localhost:8080/",
          "height": 397
        },
        "outputId": "8d39bac5-ed3f-47e6-bd12-135fa6186e27"
      },
      "source": [
        "# 정밀도 재현율만 뽑는 곡선\n",
        "\n",
        "def plot_precision_vs_recall(precisions, recalls):\n",
        "    plt.plot(recalls, precisions, \"b-\", linewidth=2)\n",
        "    plt.xlabel(\"Recall\", fontsize=16)\n",
        "    plt.ylabel(\"Precision\", fontsize=16)\n",
        "    plt.axis([0,1,0,1])\n",
        "    plt.grid(True)\n",
        "    \n",
        "plt.figure(figsize=(8, 6))\n",
        "plot_precision_vs_recall(precisions, recalls)\n",
        "plt.show()\n",
        "\n",
        "# from sklearn.metrics import average_precision_score\n",
        "# average_precision_score(y_train_5, y_scores)"
      ],
      "execution_count": 34,
      "outputs": [
        {
          "output_type": "display_data",
          "data": {
            "image/png": "[encoded data removed]",
            "text/plain": [
              "<Figure size 576x432 with 1 Axes>"
            ]
          },
          "metadata": {
            "tags": [],
            "needs_background": "light"
          }
        }
      ]
    },
    {
      "cell_type": "code",
      "metadata": {
        "id": "7Fqx6xchhmeG",
        "colab_type": "code",
        "colab": {
          "base_uri": "https://localhost:8080/",
          "height": 34
        },
        "outputId": "5f47a3a4-4b72-4766-baf3-98500f60dde8"
      },
      "source": [
        "#argmax() 최댓값의 첫 번째 인덱스 반환\n",
        "# 90보다 큰 정밀도일 때, 인덱스값을 얻고, thredshold에서의 임곘값을 찾자능\n",
        "\n",
        "threshold_90_precision = thresholds[np.argmax(precisions >= 0.90)]\n",
        "threshold_90_precision\n",
        "\n",
        "# 이 점수면 90퍼 이상이구나아..재현율은 떨어지겠지만..^^"
      ],
      "execution_count": 35,
      "outputs": [
        {
          "output_type": "execute_result",
          "data": {
            "text/plain": [
              "3370.0194991439557"
            ]
          },
          "metadata": {
            "tags": []
          },
          "execution_count": 35
        }
      ]
    },
    {
      "cell_type": "code",
      "metadata": {
        "id": "LFNo63AJhmeL",
        "colab_type": "code",
        "colab": {}
      },
      "source": [
        "# 훈련 세트에 대한 예측\n",
        "\n",
        "y_train_pred_90 = (y_scores >= threshold_90_precision)"
      ],
      "execution_count": 36,
      "outputs": []
    },
    {
      "cell_type": "code",
      "metadata": {
        "id": "dIFfB12ChmeV",
        "colab_type": "code",
        "colab": {
          "base_uri": "https://localhost:8080/",
          "height": 34
        },
        "outputId": "08fe8173-d2be-4257-e471-7d35bcfa68b2"
      },
      "source": [
        "precision_score(y_train_5, y_train_pred_90)"
      ],
      "execution_count": 37,
      "outputs": [
        {
          "output_type": "execute_result",
          "data": {
            "text/plain": [
              "0.9000345901072293"
            ]
          },
          "metadata": {
            "tags": []
          },
          "execution_count": 37
        }
      ]
    },
    {
      "cell_type": "code",
      "metadata": {
        "id": "TZjUYTa2hmeb",
        "colab_type": "code",
        "colab": {
          "base_uri": "https://localhost:8080/",
          "height": 34
        },
        "outputId": "275b27f9-f463-4fc5-b49b-89c6b4a89dc1"
      },
      "source": [
        "recall_score(y_train_5, y_train_pred_90)"
      ],
      "execution_count": 38,
      "outputs": [
        {
          "output_type": "execute_result",
          "data": {
            "text/plain": [
              "0.4799852425751706"
            ]
          },
          "metadata": {
            "tags": []
          },
          "execution_count": 38
        }
      ]
    },
    {
      "cell_type": "markdown",
      "metadata": {
        "id": "6RfHD4fxhmeh",
        "colab_type": "text"
      },
      "source": [
        "## 3.3.5 ROC 곡선\n",
        "\n",
        "ROC receiver operating chracteristic 곡선도 이진 분류에서 널리 사용하는 도구다. 정밀도/재현율 곡선과 매우 비슷하나, ROC곡선은 정밀도에 대한 재현율 곡선이 아니고!! \n",
        "\n",
        "거짓양성비율(FPR 짭양비) 에 대한 진짜양성비율(TPR찐양비) 의 곡선이다. (재현율)\n",
        "\n",
        "TNR = 특이도\n",
        "\n",
        "ROC = 민감도(재현율) 에 대한 1-특이도 그래프"
      ]
    },
    {
      "cell_type": "code",
      "metadata": {
        "id": "JoUUvo-Fhmej",
        "colab_type": "code",
        "colab": {}
      },
      "source": [
        "# roc_curve 함수 사용해 임곗값에서 TPR, FPR 값 계산\n",
        "\n",
        "from sklearn.metrics import roc_curve\n",
        "\n",
        "fpr, tpr, thresholds = roc_curve(y_train_5, y_scores)"
      ],
      "execution_count": 39,
      "outputs": []
    },
    {
      "cell_type": "code",
      "metadata": {
        "id": "UCHyzGIHhmeo",
        "colab_type": "code",
        "colab": {
          "base_uri": "https://localhost:8080/",
          "height": 284
        },
        "outputId": "e8a716c8-c547-4b05-a574-0ccb250a3f7a"
      },
      "source": [
        "def plot_roc_curve(fpr, tpr, label = None):\n",
        "    plt.plot(fpr, tpr, linewidth=2, label=label)\n",
        "    plt.plt=([0,1], [0,1], 'k--')\n",
        "    plt.xlabel(\"FPR\", fontsize=16)\n",
        "    plt.ylabel(\"TPR\", fontsize=16)\n",
        "plot_roc_curve(fpr, tpr)\n",
        "plt.show()"
      ],
      "execution_count": 40,
      "outputs": [
        {
          "output_type": "display_data",
          "data": {
            "image/png": "[encoded data removed]",
            "text/plain": [
              "<Figure size 432x288 with 1 Axes>"
            ]
          },
          "metadata": {
            "tags": [],
            "needs_background": "light"
          }
        }
      ]
    },
    {
      "cell_type": "markdown",
      "metadata": {
        "id": "TN_q2h9bhmez",
        "colab_type": "text"
      },
      "source": [
        "좋은 곡선은 우측상향 대각선에서 최대한 멀리 떨어져 있는 친구이다.\n",
        "찐양율이 올라감에 따라 짭양율도 같이 증가를 해야 말이 맞는 것..\n",
        "\n",
        "위 그래프의 곡선 아래 면적(AUC)을 측정하면 분류기들을 비교할 수 있다.\n",
        "\n",
        "완벽한 분류기는 ROC의 AUC가 1이고, 완전한 랜덤분류기는 0.5이다.\n",
        "\n",
        "사이킷런은 이 함수도 제공한다.\n"
      ]
    },
    {
      "cell_type": "code",
      "metadata": {
        "id": "AU0PyeOChme1",
        "colab_type": "code",
        "colab": {
          "base_uri": "https://localhost:8080/",
          "height": 34
        },
        "outputId": "704545d6-174b-4574-d26f-516615a9bdac"
      },
      "source": [
        "from sklearn.metrics import roc_auc_score\n",
        "roc_auc_score(y_train_5, y_scores)"
      ],
      "execution_count": 41,
      "outputs": [
        {
          "output_type": "execute_result",
          "data": {
            "text/plain": [
              "0.9604938554008616"
            ]
          },
          "metadata": {
            "tags": []
          },
          "execution_count": 41
        }
      ]
    },
    {
      "cell_type": "markdown",
      "metadata": {
        "id": "IJavb6iPhme6",
        "colab_type": "text"
      },
      "source": [
        "##### 잠깐만~\n",
        "\n",
        "roc 곡선이 정밀도/재현율 곡선과 비슷하니까 뭘 사용해야 할지 모르겠다. 일반적으로는..\n",
        "\n",
        "- 양성클래스가 드물거나 거짓음성(짭음)보다 거짓양성(짭양) 이 더 중요하면 PR\n",
        "- 아니면 ROC 쓴다.\n"
      ]
    },
    {
      "cell_type": "code",
      "metadata": {
        "id": "DXYIqJw1hme8",
        "colab_type": "code",
        "colab": {}
      },
      "source": [
        "from sklearn.ensemble import RandomForestClassifier\n",
        "\n",
        "# predict_proba 메소드는 샘플이 행, 클래스가 열, 예측에 대한 확률값 제공\n",
        "# 샘플이 주어진 클래스에 속활 확률을 담을 배열 반환\n",
        "# roc_curve() 함수는 레이블과 점수를 기대...근데 점수 대신 클래스 확률 전달 가능\n",
        "\n",
        "forest_clf = RandomForestClassifier(random_state = 42)\n",
        "y_probas_forest = cross_val_predict(forest_clf, X_train, y_train_5, cv=3, \n",
        "                                   method=\"predict_proba\")"
      ],
      "execution_count": 42,
      "outputs": []
    },
    {
      "cell_type": "code",
      "metadata": {
        "id": "oV7CJuGDhmfE",
        "colab_type": "code",
        "colab": {}
      },
      "source": [
        "# 양성 클래스 확률을 점수로 사용해보자~\n",
        "\n",
        "y_scores_forest = y_probas_forest[:, 1]      # 양성 클래스에 대한 확률 점수로 써라!, \n",
        "# (행=샘플 개수) 1번째 열은 음성 클래스 확률, 2 번째 열은 양성클래스 확률\n",
        "# 양성클래스 확률만 있으면 되니까 인덱스 1\n",
        "fpr_forest, tpr_forest, thresholds_forest = roc_curve(y_train_5, y_scores_forest)"
      ],
      "execution_count": 43,
      "outputs": []
    },
    {
      "cell_type": "code",
      "metadata": {
        "id": "em5SryBMhmfK",
        "colab_type": "code",
        "colab": {
          "base_uri": "https://localhost:8080/",
          "height": 284
        },
        "outputId": "857b25f3-78ac-44db-aaf6-b9ee04de3aca"
      },
      "source": [
        "plt.plot(fpr, tpr, \"b:\", label=\"SGD\")\n",
        "plot_roc_curve(fpr_forest, tpr_forest, \"RandomForest\")\n",
        "plt.legend(loc=\"lower right\")     # 우측 하단에 뭐가 뭔지 표시\n",
        "plt.show()\n",
        "\n",
        "# 랜덤포레스트 분류기가 더 낫구먼\n",
        "# 헷헷"
      ],
      "execution_count": 44,
      "outputs": [
        {
          "output_type": "display_data",
          "data": {
            "image/png": "[encoded data removed]",
            "text/plain": [
              "<Figure size 432x288 with 1 Axes>"
            ]
          },
          "metadata": {
            "tags": [],
            "needs_background": "light"
          }
        }
      ]
    },
    {
      "cell_type": "code",
      "metadata": {
        "id": "hrl15iDhhmfV",
        "colab_type": "code",
        "colab": {
          "base_uri": "https://localhost:8080/",
          "height": 34
        },
        "outputId": "dc81ffbd-0992-43e0-cdcc-152b0693cc5e"
      },
      "source": [
        "roc_auc_score(y_train_5, y_scores_forest)\n",
        "\n",
        "# 점수도 좋구만!"
      ],
      "execution_count": 45,
      "outputs": [
        {
          "output_type": "execute_result",
          "data": {
            "text/plain": [
              "0.9983436731328145"
            ]
          },
          "metadata": {
            "tags": []
          },
          "execution_count": 45
        }
      ]
    },
    {
      "cell_type": "code",
      "metadata": {
        "id": "3WnbFoNwsu6Z",
        "colab_type": "code",
        "colab": {}
      },
      "source": [
        "y_train_pred_forest = cross_val_predict(forest_clf, X_train, y_train_5, cv=3)\n",
        "precision_score(y_train_5, y_train_pred_forest) # 정밀도"
      ],
      "execution_count": null,
      "outputs": []
    },
    {
      "cell_type": "code",
      "metadata": {
        "id": "NL9wjMxmstr0",
        "colab_type": "code",
        "colab": {}
      },
      "source": [
        "recall_score(y_train_5, y_train_pred_forest) # 재현율"
      ],
      "execution_count": null,
      "outputs": []
    },
    {
      "cell_type": "markdown",
      "metadata": {
        "id": "9AB94Y_vhmfa",
        "colab_type": "text"
      },
      "source": [
        "# 3.4 다중 분류\n",
        "\n",
        "이진 분류가 두 개의 클래스를 구분한다구? 다중 분류기는 둘 이상의 클래스를 구별한다!\n",
        "\n",
        "일부 알고리즘은 여러 개의 클래스를 직접 처리할 수 있다. 다른 것은 이진 분류만 가능하지만..\n",
        "\n",
        "하지만 이진 분류기를 여러개 사용해 다중 클래스를 분류하는 기법도 많다.\n",
        "\n",
        "* OvR(OvA): n개의 모델 훈련, liblinear를 사용하는 LinearSVC/LogisticRegression(solver='liblinear') 클래스,\n",
        "이렇게 이진 분류 여러개를 만들어서 활용할 때, 각 분류기의 결정 점수 중에서 가장 높은 것을 클래스로 선정하면 된다. 이를 OvR전략이라고 한다. (One versus the Rest) (OvA)\n",
        "\n",
        "* OvO: n(n-1)/2개 푼련, libsvm을 사용하는 SVC 클래스.\n",
        "또 다른 전략은 0과1 구별, 0과2 구별, 1과 2 구별 같이 각 숫자 조합마다 이진 분류기를 훈련시킬 수 도 있다. 이를 OvO라고 한다. 클래스가 n개 있다고 치면 n(n+1)/2 개가 필요하다.\n",
        "\n",
        "* Multinomial: SGDClassifier, LogisticRegression(solver!='liblinear'), RandomForestClassifier\n",
        "다중 클래스 분류 작업에 이진 분류 알고리즘 선택하면, 사이킷런이 알고리즘 따라 자동으로 OvR, OvO 실행한다. "
      ]
    },
    {
      "cell_type": "code",
      "metadata": {
        "id": "WNBqGhVThmfb",
        "colab_type": "code",
        "colab": {
          "base_uri": "https://localhost:8080/",
          "height": 34
        },
        "outputId": "1e0134ba-ae54-417c-853d-f33743a2836c"
      },
      "source": [
        "from sklearn.svm import SVC\n",
        "svm_clf = SVC(gamma=\"auto\", random_state=42)\n",
        "svm_clf.fit(X_train[:1000], y_train[:1000])       # y_train\n",
        "svm_clf.predict([some_digit])"
      ],
      "execution_count": 52,
      "outputs": [
        {
          "output_type": "execute_result",
          "data": {
            "text/plain": [
              "array([5], dtype=uint8)"
            ]
          },
          "metadata": {
            "tags": []
          },
          "execution_count": 52
        }
      ]
    },
    {
      "cell_type": "code",
      "metadata": {
        "id": "SfzbzUE_hmfh",
        "colab_type": "code",
        "colab": {
          "base_uri": "https://localhost:8080/",
          "height": 50
        },
        "outputId": "837634c0-8cbc-43ba-8e9e-a1805a8ee95c"
      },
      "source": [
        "# decision_function() 샘플당 10개의 점수 반환, 클래스 별 하나씩\n",
        "# 가장 높은 점수가 클래스 5에 해당하는 것\n",
        "# 클래스마다 결정함수값이 출력, 인덱스 5가 가장 높은 점수이므로 5구나..하는 것\n",
        "\n",
        "some_digit_scores = svm_clf.decision_function([some_digit])\n",
        "some_digit_scores"
      ],
      "execution_count": 53,
      "outputs": [
        {
          "output_type": "execute_result",
          "data": {
            "text/plain": [
              "array([[ 2.81585438,  7.09167958,  3.82972099,  0.79365551,  5.8885703 ,\n",
              "         9.29718395,  1.79862509,  8.10392157, -0.228207  ,  4.83753243]])"
            ]
          },
          "metadata": {
            "tags": []
          },
          "execution_count": 53
        }
      ]
    },
    {
      "cell_type": "code",
      "metadata": {
        "id": "J74on1VEhmfm",
        "colab_type": "code",
        "colab": {
          "base_uri": "https://localhost:8080/",
          "height": 34
        },
        "outputId": "dc06b5bf-ddf5-4d31-87c5-44454ff83a11"
      },
      "source": [
        "np.argmax(some_digit_scores)"
      ],
      "execution_count": 54,
      "outputs": [
        {
          "output_type": "execute_result",
          "data": {
            "text/plain": [
              "5"
            ]
          },
          "metadata": {
            "tags": []
          },
          "execution_count": 54
        }
      ]
    },
    {
      "cell_type": "code",
      "metadata": {
        "id": "FyFS-bMvhmf3",
        "colab_type": "code",
        "colab": {
          "base_uri": "https://localhost:8080/",
          "height": 34
        },
        "outputId": "5f3679d6-c15e-44c2-f969-9669b80f707b"
      },
      "source": [
        "svm_clf.classes_"
      ],
      "execution_count": 50,
      "outputs": [
        {
          "output_type": "execute_result",
          "data": {
            "text/plain": [
              "array([0, 1, 2, 3, 4, 5, 6, 7, 8, 9], dtype=uint8)"
            ]
          },
          "metadata": {
            "tags": []
          },
          "execution_count": 50
        }
      ]
    },
    {
      "cell_type": "code",
      "metadata": {
        "id": "XXVkXSfUhmf8",
        "colab_type": "code",
        "colab": {
          "base_uri": "https://localhost:8080/",
          "height": 34
        },
        "outputId": "79157847-b52e-430f-d22f-159f9f9fbf97"
      },
      "source": [
        "svm_clf.classes_[5]   # 인덱스랑 값이 같고, 인덱스만 뽑아서 쓸 수 있는. 인덱스 5의 값은 5다 라는게 결과임"
      ],
      "execution_count": 55,
      "outputs": [
        {
          "output_type": "execute_result",
          "data": {
            "text/plain": [
              "5"
            ]
          },
          "metadata": {
            "tags": []
          },
          "execution_count": 55
        }
      ]
    },
    {
      "cell_type": "markdown",
      "metadata": {
        "id": "oNt6M6_NhmgA",
        "colab_type": "text"
      },
      "source": [
        "분류기가 훈련될 때 classes_속성에 타깃 클래스의 리스트를 값으로 정렬해 저장한다. 위 예제에서는 classes_배열에 있는 각 클래스의 인덱스가 클래스 값 자체와 같다. 근데 이런 경우는 드물다."
      ]
    },
    {
      "cell_type": "code",
      "metadata": {
        "id": "9-CdRJEavEno",
        "colab_type": "code",
        "colab": {
          "base_uri": "https://localhost:8080/",
          "height": 34
        },
        "outputId": "5d41118c-ef10-4268-ce9b-25d7e508be6c"
      },
      "source": [
        "from sklearn.multiclass import OneVsRestClassifier\n",
        "ovr_clf =  OneVsRestClassifier(SVC(gamma=\"auto\", random_state=42))\n",
        "ovr_clf.fit(X_train[:1000], y_train[:1000])\n",
        "ovr_clf.predict([some_digit])\n",
        "\n",
        "# 강제로 OvR 방식을 쓰게끔 하는 클래스, OneVsRestClassifier\n",
        "# OneVsOneClassifier는 OvO 쓰게 하는 클래스"
      ],
      "execution_count": 56,
      "outputs": [
        {
          "output_type": "execute_result",
          "data": {
            "text/plain": [
              "array([5], dtype=uint8)"
            ]
          },
          "metadata": {
            "tags": []
          },
          "execution_count": 56
        }
      ]
    },
    {
      "cell_type": "code",
      "metadata": {
        "id": "fwC1TYBQhmgT",
        "colab_type": "code",
        "colab": {
          "base_uri": "https://localhost:8080/",
          "height": 34
        },
        "outputId": "f5229b83-11eb-4976-9f0d-d5b40758a549"
      },
      "source": [
        "len(ovr_clf.estimators_)  # 이 속성에는 만든 분류기 모델 수를 보여준다. 레이블이 10개라서 가각 1개씩 훈련"
      ],
      "execution_count": 57,
      "outputs": [
        {
          "output_type": "execute_result",
          "data": {
            "text/plain": [
              "10"
            ]
          },
          "metadata": {
            "tags": []
          },
          "execution_count": 57
        }
      ]
    },
    {
      "cell_type": "code",
      "metadata": {
        "id": "RrKQ-4Yjhmgb",
        "colab_type": "code",
        "colab": {
          "base_uri": "https://localhost:8080/",
          "height": 34
        },
        "outputId": "eb282cf2-85fd-48f6-df76-5255be3d2eb7"
      },
      "source": [
        "sgd_clf.fit(X_train, y_train)\n",
        "sgd_clf.predict([some_digit])"
      ],
      "execution_count": 59,
      "outputs": [
        {
          "output_type": "execute_result",
          "data": {
            "text/plain": [
              "array([3], dtype=uint8)"
            ]
          },
          "metadata": {
            "tags": []
          },
          "execution_count": 59
        }
      ]
    },
    {
      "cell_type": "code",
      "metadata": {
        "id": "0MrmISfnhmgn",
        "colab_type": "code",
        "colab": {
          "base_uri": "https://localhost:8080/",
          "height": 84
        },
        "outputId": "08aa7e38-4c3f-49e1-eb47-890688cd0c7a"
      },
      "source": [
        "# decision_function() 은 클래스(레이블)마다 열 개의 결정 함수 값을 반환한다. (10개의 값이 출력 되겠지...)\n",
        "# 인덱스 3이 높다고 나오는데 원래 5 간 높아야 한다...뭐징..\n",
        "\n",
        "sgd_clf.decision_function([some_digit])"
      ],
      "execution_count": 60,
      "outputs": [
        {
          "output_type": "execute_result",
          "data": {
            "text/plain": [
              "array([[-31893.03095419, -34419.69069632,  -9530.63950739,\n",
              "          1823.73154031, -22320.14822878,  -1385.80478895,\n",
              "        -26188.91070951, -16147.51323997,  -4604.35491274,\n",
              "        -12050.767298  ]])"
            ]
          },
          "metadata": {
            "tags": []
          },
          "execution_count": 60
        }
      ]
    },
    {
      "cell_type": "code",
      "metadata": {
        "id": "wagJqkSRhmgr",
        "colab_type": "code",
        "colab": {
          "base_uri": "https://localhost:8080/",
          "height": 67
        },
        "outputId": "6b1262df-3324-4fb9-ea25-2cb0e88f3812"
      },
      "source": [
        "# 3개의 폴드로 나눠라. 하나=검증, 둘=훈련 검증세트 계산! 이렇게 총 3번 해라\n",
        "# cross_validate() 메소드가 추가! : 훈련 시간이 단축, 필드 검증에서 스코어 테스트하는 시간이 리턴!\n",
        "\n",
        "# cross_val_score(sgd_clf, X_train, y_train, cv=3, scoring=\"accuracy\")   # 원래 있던 친구는 얘\n",
        "from sklearn.model_selection import cross_validate\n",
        "cross_validate(sgd_clf, X_train, y_train, cv=3, scoring=\"accuracy\")"
      ],
      "execution_count": 63,
      "outputs": [
        {
          "output_type": "execute_result",
          "data": {
            "text/plain": [
              "{'fit_time': array([117.40838313,  96.84333062,  95.83895564]),\n",
              " 'score_time': array([0.08325243, 0.05331612, 0.05944586]),\n",
              " 'test_score': array([0.87365, 0.85835, 0.8689 ])}"
            ]
          },
          "metadata": {
            "tags": []
          },
          "execution_count": 63
        }
      ]
    },
    {
      "cell_type": "code",
      "metadata": {
        "id": "6Q7TRpGBhmg0",
        "colab_type": "code",
        "colab": {}
      },
      "source": [
        "# 2장에서 쓴 친구, StandardScaler, 점수가 더 좋게 나오는 친구\n",
        "# 왜냐, SGDClassifier는 경사 하강법을 쓰며, 특성 간의 거리, Scale에 민감하게 반응한다. (이런 모델이 다 그래)\n",
        "# 특성 간의 값을 가지고 거리를 계산하므로 특성의 Scale을 서로 맞춰야 한다\n",
        "# 안그러면 특성에 편중되어 알고리즘이 수행되겠지..\n",
        "# 랜덤포레스트는 거리에 전혀 반응하지 않으므로 스케일링 안하고 해도 무방하다.\n",
        "\n",
        "from sklearn.preprocessing import StandardScaler\n",
        "\n"
      ],
      "execution_count": 66,
      "outputs": []
    },
    {
      "cell_type": "code",
      "metadata": {
        "id": "RTflofAB3uPW",
        "colab_type": "code",
        "colab": {}
      },
      "source": [
        "scaler = StandardScaler()\n"
      ],
      "execution_count": 67,
      "outputs": []
    },
    {
      "cell_type": "code",
      "metadata": {
        "id": "XR1Oxrx43xXZ",
        "colab_type": "code",
        "colab": {}
      },
      "source": [
        "X_train_scaled = scaler.fit_transform(X_train.astype(np.float64))\n"
      ],
      "execution_count": 68,
      "outputs": []
    },
    {
      "cell_type": "code",
      "metadata": {
        "id": "_RT993Lm3zpG",
        "colab_type": "code",
        "colab": {
          "base_uri": "https://localhost:8080/",
          "height": 322
        },
        "outputId": "4d063a56-0aa1-4d38-bae3-a14705354ed4"
      },
      "source": [
        "cross_val_score(sgd_clf, X_train_scaled, y_train, cv=3, scoring=\"accuracy\")"
      ],
      "execution_count": 69,
      "outputs": [
        {
          "output_type": "error",
          "ename": "KeyboardInterrupt",
          "evalue": "ignored",
          "traceback": [
            "\u001b[0;31m---------------------------------------------------------------------------\u001b[0m",
            "\u001b[0;31mKeyboardInterrupt\u001b[0m                         Traceback (most recent call last)",
            "\u001b[0;32m<ipython-input-69-442544d102f8>\u001b[0m in \u001b[0;36m<module>\u001b[0;34m()\u001b[0m\n\u001b[0;32m----> 1\u001b[0;31m \u001b[0mcross_val_score\u001b[0m\u001b[0;34m(\u001b[0m\u001b[0msgd_clf\u001b[0m\u001b[0;34m,\u001b[0m \u001b[0mX_train_scaled\u001b[0m\u001b[0;34m,\u001b[0m \u001b[0my_train\u001b[0m\u001b[0;34m,\u001b[0m \u001b[0mcv\u001b[0m\u001b[0;34m=\u001b[0m\u001b[0;36m3\u001b[0m\u001b[0;34m,\u001b[0m \u001b[0mscoring\u001b[0m\u001b[0;34m=\u001b[0m\u001b[0;34m\"accuracy\"\u001b[0m\u001b[0;34m)\u001b[0m\u001b[0;34m\u001b[0m\u001b[0;34m\u001b[0m\u001b[0m\n\u001b[0m",
            "\u001b[0;32m/usr/local/lib/python3.6/dist-packages/sklearn/model_selection/_validation.py\u001b[0m in \u001b[0;36mcross_val_score\u001b[0;34m(estimator, X, y, groups, scoring, cv, n_jobs, verbose, fit_params, pre_dispatch, error_score)\u001b[0m\n\u001b[1;32m    388\u001b[0m                                 \u001b[0mfit_params\u001b[0m\u001b[0;34m=\u001b[0m\u001b[0mfit_params\u001b[0m\u001b[0;34m,\u001b[0m\u001b[0;34m\u001b[0m\u001b[0;34m\u001b[0m\u001b[0m\n\u001b[1;32m    389\u001b[0m                                 \u001b[0mpre_dispatch\u001b[0m\u001b[0;34m=\u001b[0m\u001b[0mpre_dispatch\u001b[0m\u001b[0;34m,\u001b[0m\u001b[0;34m\u001b[0m\u001b[0;34m\u001b[0m\u001b[0m\n\u001b[0;32m--> 390\u001b[0;31m                                 error_score=error_score)\n\u001b[0m\u001b[1;32m    391\u001b[0m     \u001b[0;32mreturn\u001b[0m \u001b[0mcv_results\u001b[0m\u001b[0;34m[\u001b[0m\u001b[0;34m'test_score'\u001b[0m\u001b[0;34m]\u001b[0m\u001b[0;34m\u001b[0m\u001b[0;34m\u001b[0m\u001b[0m\n\u001b[1;32m    392\u001b[0m \u001b[0;34m\u001b[0m\u001b[0m\n",
            "\u001b[0;32m/usr/local/lib/python3.6/dist-packages/sklearn/model_selection/_validation.py\u001b[0m in \u001b[0;36mcross_validate\u001b[0;34m(estimator, X, y, groups, scoring, cv, n_jobs, verbose, fit_params, pre_dispatch, return_train_score, return_estimator, error_score)\u001b[0m\n\u001b[1;32m    234\u001b[0m             \u001b[0mreturn_times\u001b[0m\u001b[0;34m=\u001b[0m\u001b[0;32mTrue\u001b[0m\u001b[0;34m,\u001b[0m \u001b[0mreturn_estimator\u001b[0m\u001b[0;34m=\u001b[0m\u001b[0mreturn_estimator\u001b[0m\u001b[0;34m,\u001b[0m\u001b[0;34m\u001b[0m\u001b[0;34m\u001b[0m\u001b[0m\n\u001b[1;32m    235\u001b[0m             error_score=error_score)\n\u001b[0;32m--> 236\u001b[0;31m         for train, test in cv.split(X, y, groups))\n\u001b[0m\u001b[1;32m    237\u001b[0m \u001b[0;34m\u001b[0m\u001b[0m\n\u001b[1;32m    238\u001b[0m     \u001b[0mzipped_scores\u001b[0m \u001b[0;34m=\u001b[0m \u001b[0mlist\u001b[0m\u001b[0;34m(\u001b[0m\u001b[0mzip\u001b[0m\u001b[0;34m(\u001b[0m\u001b[0;34m*\u001b[0m\u001b[0mscores\u001b[0m\u001b[0;34m)\u001b[0m\u001b[0;34m)\u001b[0m\u001b[0;34m\u001b[0m\u001b[0;34m\u001b[0m\u001b[0m\n",
            "\u001b[0;32m/usr/local/lib/python3.6/dist-packages/joblib/parallel.py\u001b[0m in \u001b[0;36m__call__\u001b[0;34m(self, iterable)\u001b[0m\n\u001b[1;32m   1027\u001b[0m             \u001b[0;31m# remaining jobs.\u001b[0m\u001b[0;34m\u001b[0m\u001b[0;34m\u001b[0m\u001b[0;34m\u001b[0m\u001b[0m\n\u001b[1;32m   1028\u001b[0m             \u001b[0mself\u001b[0m\u001b[0;34m.\u001b[0m\u001b[0m_iterating\u001b[0m \u001b[0;34m=\u001b[0m \u001b[0;32mFalse\u001b[0m\u001b[0;34m\u001b[0m\u001b[0;34m\u001b[0m\u001b[0m\n\u001b[0;32m-> 1029\u001b[0;31m             \u001b[0;32mif\u001b[0m \u001b[0mself\u001b[0m\u001b[0;34m.\u001b[0m\u001b[0mdispatch_one_batch\u001b[0m\u001b[0;34m(\u001b[0m\u001b[0miterator\u001b[0m\u001b[0;34m)\u001b[0m\u001b[0;34m:\u001b[0m\u001b[0;34m\u001b[0m\u001b[0;34m\u001b[0m\u001b[0m\n\u001b[0m\u001b[1;32m   1030\u001b[0m                 \u001b[0mself\u001b[0m\u001b[0;34m.\u001b[0m\u001b[0m_iterating\u001b[0m \u001b[0;34m=\u001b[0m \u001b[0mself\u001b[0m\u001b[0;34m.\u001b[0m\u001b[0m_original_iterator\u001b[0m \u001b[0;32mis\u001b[0m \u001b[0;32mnot\u001b[0m \u001b[0;32mNone\u001b[0m\u001b[0;34m\u001b[0m\u001b[0;34m\u001b[0m\u001b[0m\n\u001b[1;32m   1031\u001b[0m \u001b[0;34m\u001b[0m\u001b[0m\n",
            "\u001b[0;32m/usr/local/lib/python3.6/dist-packages/joblib/parallel.py\u001b[0m in \u001b[0;36mdispatch_one_batch\u001b[0;34m(self, iterator)\u001b[0m\n\u001b[1;32m    845\u001b[0m                 \u001b[0;32mreturn\u001b[0m \u001b[0;32mFalse\u001b[0m\u001b[0;34m\u001b[0m\u001b[0;34m\u001b[0m\u001b[0m\n\u001b[1;32m    846\u001b[0m             \u001b[0;32melse\u001b[0m\u001b[0;34m:\u001b[0m\u001b[0;34m\u001b[0m\u001b[0;34m\u001b[0m\u001b[0m\n\u001b[0;32m--> 847\u001b[0;31m                 \u001b[0mself\u001b[0m\u001b[0;34m.\u001b[0m\u001b[0m_dispatch\u001b[0m\u001b[0;34m(\u001b[0m\u001b[0mtasks\u001b[0m\u001b[0;34m)\u001b[0m\u001b[0;34m\u001b[0m\u001b[0;34m\u001b[0m\u001b[0m\n\u001b[0m\u001b[1;32m    848\u001b[0m                 \u001b[0;32mreturn\u001b[0m \u001b[0;32mTrue\u001b[0m\u001b[0;34m\u001b[0m\u001b[0;34m\u001b[0m\u001b[0m\n\u001b[1;32m    849\u001b[0m \u001b[0;34m\u001b[0m\u001b[0m\n",
            "\u001b[0;32m/usr/local/lib/python3.6/dist-packages/joblib/parallel.py\u001b[0m in \u001b[0;36m_dispatch\u001b[0;34m(self, batch)\u001b[0m\n\u001b[1;32m    763\u001b[0m         \u001b[0;32mwith\u001b[0m \u001b[0mself\u001b[0m\u001b[0;34m.\u001b[0m\u001b[0m_lock\u001b[0m\u001b[0;34m:\u001b[0m\u001b[0;34m\u001b[0m\u001b[0;34m\u001b[0m\u001b[0m\n\u001b[1;32m    764\u001b[0m             \u001b[0mjob_idx\u001b[0m \u001b[0;34m=\u001b[0m \u001b[0mlen\u001b[0m\u001b[0;34m(\u001b[0m\u001b[0mself\u001b[0m\u001b[0;34m.\u001b[0m\u001b[0m_jobs\u001b[0m\u001b[0;34m)\u001b[0m\u001b[0;34m\u001b[0m\u001b[0;34m\u001b[0m\u001b[0m\n\u001b[0;32m--> 765\u001b[0;31m             \u001b[0mjob\u001b[0m \u001b[0;34m=\u001b[0m \u001b[0mself\u001b[0m\u001b[0;34m.\u001b[0m\u001b[0m_backend\u001b[0m\u001b[0;34m.\u001b[0m\u001b[0mapply_async\u001b[0m\u001b[0;34m(\u001b[0m\u001b[0mbatch\u001b[0m\u001b[0;34m,\u001b[0m \u001b[0mcallback\u001b[0m\u001b[0;34m=\u001b[0m\u001b[0mcb\u001b[0m\u001b[0;34m)\u001b[0m\u001b[0;34m\u001b[0m\u001b[0;34m\u001b[0m\u001b[0m\n\u001b[0m\u001b[1;32m    766\u001b[0m             \u001b[0;31m# A job can complete so quickly than its callback is\u001b[0m\u001b[0;34m\u001b[0m\u001b[0;34m\u001b[0m\u001b[0;34m\u001b[0m\u001b[0m\n\u001b[1;32m    767\u001b[0m             \u001b[0;31m# called before we get here, causing self._jobs to\u001b[0m\u001b[0;34m\u001b[0m\u001b[0;34m\u001b[0m\u001b[0;34m\u001b[0m\u001b[0m\n",
            "\u001b[0;32m/usr/local/lib/python3.6/dist-packages/joblib/_parallel_backends.py\u001b[0m in \u001b[0;36mapply_async\u001b[0;34m(self, func, callback)\u001b[0m\n\u001b[1;32m    206\u001b[0m     \u001b[0;32mdef\u001b[0m \u001b[0mapply_async\u001b[0m\u001b[0;34m(\u001b[0m\u001b[0mself\u001b[0m\u001b[0;34m,\u001b[0m \u001b[0mfunc\u001b[0m\u001b[0;34m,\u001b[0m \u001b[0mcallback\u001b[0m\u001b[0;34m=\u001b[0m\u001b[0;32mNone\u001b[0m\u001b[0;34m)\u001b[0m\u001b[0;34m:\u001b[0m\u001b[0;34m\u001b[0m\u001b[0;34m\u001b[0m\u001b[0m\n\u001b[1;32m    207\u001b[0m         \u001b[0;34m\"\"\"Schedule a func to be run\"\"\"\u001b[0m\u001b[0;34m\u001b[0m\u001b[0;34m\u001b[0m\u001b[0m\n\u001b[0;32m--> 208\u001b[0;31m         \u001b[0mresult\u001b[0m \u001b[0;34m=\u001b[0m \u001b[0mImmediateResult\u001b[0m\u001b[0;34m(\u001b[0m\u001b[0mfunc\u001b[0m\u001b[0;34m)\u001b[0m\u001b[0;34m\u001b[0m\u001b[0;34m\u001b[0m\u001b[0m\n\u001b[0m\u001b[1;32m    209\u001b[0m         \u001b[0;32mif\u001b[0m \u001b[0mcallback\u001b[0m\u001b[0;34m:\u001b[0m\u001b[0;34m\u001b[0m\u001b[0;34m\u001b[0m\u001b[0m\n\u001b[1;32m    210\u001b[0m             \u001b[0mcallback\u001b[0m\u001b[0;34m(\u001b[0m\u001b[0mresult\u001b[0m\u001b[0;34m)\u001b[0m\u001b[0;34m\u001b[0m\u001b[0;34m\u001b[0m\u001b[0m\n",
            "\u001b[0;32m/usr/local/lib/python3.6/dist-packages/joblib/_parallel_backends.py\u001b[0m in \u001b[0;36m__init__\u001b[0;34m(self, batch)\u001b[0m\n\u001b[1;32m    570\u001b[0m         \u001b[0;31m# Don't delay the application, to avoid keeping the input\u001b[0m\u001b[0;34m\u001b[0m\u001b[0;34m\u001b[0m\u001b[0;34m\u001b[0m\u001b[0m\n\u001b[1;32m    571\u001b[0m         \u001b[0;31m# arguments in memory\u001b[0m\u001b[0;34m\u001b[0m\u001b[0;34m\u001b[0m\u001b[0;34m\u001b[0m\u001b[0m\n\u001b[0;32m--> 572\u001b[0;31m         \u001b[0mself\u001b[0m\u001b[0;34m.\u001b[0m\u001b[0mresults\u001b[0m \u001b[0;34m=\u001b[0m \u001b[0mbatch\u001b[0m\u001b[0;34m(\u001b[0m\u001b[0;34m)\u001b[0m\u001b[0;34m\u001b[0m\u001b[0;34m\u001b[0m\u001b[0m\n\u001b[0m\u001b[1;32m    573\u001b[0m \u001b[0;34m\u001b[0m\u001b[0m\n\u001b[1;32m    574\u001b[0m     \u001b[0;32mdef\u001b[0m \u001b[0mget\u001b[0m\u001b[0;34m(\u001b[0m\u001b[0mself\u001b[0m\u001b[0;34m)\u001b[0m\u001b[0;34m:\u001b[0m\u001b[0;34m\u001b[0m\u001b[0;34m\u001b[0m\u001b[0m\n",
            "\u001b[0;32m/usr/local/lib/python3.6/dist-packages/joblib/parallel.py\u001b[0m in \u001b[0;36m__call__\u001b[0;34m(self)\u001b[0m\n\u001b[1;32m    251\u001b[0m         \u001b[0;32mwith\u001b[0m \u001b[0mparallel_backend\u001b[0m\u001b[0;34m(\u001b[0m\u001b[0mself\u001b[0m\u001b[0;34m.\u001b[0m\u001b[0m_backend\u001b[0m\u001b[0;34m,\u001b[0m \u001b[0mn_jobs\u001b[0m\u001b[0;34m=\u001b[0m\u001b[0mself\u001b[0m\u001b[0;34m.\u001b[0m\u001b[0m_n_jobs\u001b[0m\u001b[0;34m)\u001b[0m\u001b[0;34m:\u001b[0m\u001b[0;34m\u001b[0m\u001b[0;34m\u001b[0m\u001b[0m\n\u001b[1;32m    252\u001b[0m             return [func(*args, **kwargs)\n\u001b[0;32m--> 253\u001b[0;31m                     for func, args, kwargs in self.items]\n\u001b[0m\u001b[1;32m    254\u001b[0m \u001b[0;34m\u001b[0m\u001b[0m\n\u001b[1;32m    255\u001b[0m     \u001b[0;32mdef\u001b[0m \u001b[0m__reduce__\u001b[0m\u001b[0;34m(\u001b[0m\u001b[0mself\u001b[0m\u001b[0;34m)\u001b[0m\u001b[0;34m:\u001b[0m\u001b[0;34m\u001b[0m\u001b[0;34m\u001b[0m\u001b[0m\n",
            "\u001b[0;32m/usr/local/lib/python3.6/dist-packages/joblib/parallel.py\u001b[0m in \u001b[0;36m<listcomp>\u001b[0;34m(.0)\u001b[0m\n\u001b[1;32m    251\u001b[0m         \u001b[0;32mwith\u001b[0m \u001b[0mparallel_backend\u001b[0m\u001b[0;34m(\u001b[0m\u001b[0mself\u001b[0m\u001b[0;34m.\u001b[0m\u001b[0m_backend\u001b[0m\u001b[0;34m,\u001b[0m \u001b[0mn_jobs\u001b[0m\u001b[0;34m=\u001b[0m\u001b[0mself\u001b[0m\u001b[0;34m.\u001b[0m\u001b[0m_n_jobs\u001b[0m\u001b[0;34m)\u001b[0m\u001b[0;34m:\u001b[0m\u001b[0;34m\u001b[0m\u001b[0;34m\u001b[0m\u001b[0m\n\u001b[1;32m    252\u001b[0m             return [func(*args, **kwargs)\n\u001b[0;32m--> 253\u001b[0;31m                     for func, args, kwargs in self.items]\n\u001b[0m\u001b[1;32m    254\u001b[0m \u001b[0;34m\u001b[0m\u001b[0m\n\u001b[1;32m    255\u001b[0m     \u001b[0;32mdef\u001b[0m \u001b[0m__reduce__\u001b[0m\u001b[0;34m(\u001b[0m\u001b[0mself\u001b[0m\u001b[0;34m)\u001b[0m\u001b[0;34m:\u001b[0m\u001b[0;34m\u001b[0m\u001b[0;34m\u001b[0m\u001b[0m\n",
            "\u001b[0;32m/usr/local/lib/python3.6/dist-packages/sklearn/model_selection/_validation.py\u001b[0m in \u001b[0;36m_fit_and_score\u001b[0;34m(estimator, X, y, scorer, train, test, verbose, parameters, fit_params, return_train_score, return_parameters, return_n_test_samples, return_times, return_estimator, error_score)\u001b[0m\n\u001b[1;32m    513\u001b[0m             \u001b[0mestimator\u001b[0m\u001b[0;34m.\u001b[0m\u001b[0mfit\u001b[0m\u001b[0;34m(\u001b[0m\u001b[0mX_train\u001b[0m\u001b[0;34m,\u001b[0m \u001b[0;34m**\u001b[0m\u001b[0mfit_params\u001b[0m\u001b[0;34m)\u001b[0m\u001b[0;34m\u001b[0m\u001b[0;34m\u001b[0m\u001b[0m\n\u001b[1;32m    514\u001b[0m         \u001b[0;32melse\u001b[0m\u001b[0;34m:\u001b[0m\u001b[0;34m\u001b[0m\u001b[0;34m\u001b[0m\u001b[0m\n\u001b[0;32m--> 515\u001b[0;31m             \u001b[0mestimator\u001b[0m\u001b[0;34m.\u001b[0m\u001b[0mfit\u001b[0m\u001b[0;34m(\u001b[0m\u001b[0mX_train\u001b[0m\u001b[0;34m,\u001b[0m \u001b[0my_train\u001b[0m\u001b[0;34m,\u001b[0m \u001b[0;34m**\u001b[0m\u001b[0mfit_params\u001b[0m\u001b[0;34m)\u001b[0m\u001b[0;34m\u001b[0m\u001b[0;34m\u001b[0m\u001b[0m\n\u001b[0m\u001b[1;32m    516\u001b[0m \u001b[0;34m\u001b[0m\u001b[0m\n\u001b[1;32m    517\u001b[0m     \u001b[0;32mexcept\u001b[0m \u001b[0mException\u001b[0m \u001b[0;32mas\u001b[0m \u001b[0me\u001b[0m\u001b[0;34m:\u001b[0m\u001b[0;34m\u001b[0m\u001b[0;34m\u001b[0m\u001b[0m\n",
            "\u001b[0;32m/usr/local/lib/python3.6/dist-packages/sklearn/linear_model/_stochastic_gradient.py\u001b[0m in \u001b[0;36mfit\u001b[0;34m(self, X, y, coef_init, intercept_init, sample_weight)\u001b[0m\n\u001b[1;32m    709\u001b[0m                          \u001b[0mloss\u001b[0m\u001b[0;34m=\u001b[0m\u001b[0mself\u001b[0m\u001b[0;34m.\u001b[0m\u001b[0mloss\u001b[0m\u001b[0;34m,\u001b[0m \u001b[0mlearning_rate\u001b[0m\u001b[0;34m=\u001b[0m\u001b[0mself\u001b[0m\u001b[0;34m.\u001b[0m\u001b[0mlearning_rate\u001b[0m\u001b[0;34m,\u001b[0m\u001b[0;34m\u001b[0m\u001b[0;34m\u001b[0m\u001b[0m\n\u001b[1;32m    710\u001b[0m                          \u001b[0mcoef_init\u001b[0m\u001b[0;34m=\u001b[0m\u001b[0mcoef_init\u001b[0m\u001b[0;34m,\u001b[0m \u001b[0mintercept_init\u001b[0m\u001b[0;34m=\u001b[0m\u001b[0mintercept_init\u001b[0m\u001b[0;34m,\u001b[0m\u001b[0;34m\u001b[0m\u001b[0;34m\u001b[0m\u001b[0m\n\u001b[0;32m--> 711\u001b[0;31m                          sample_weight=sample_weight)\n\u001b[0m\u001b[1;32m    712\u001b[0m \u001b[0;34m\u001b[0m\u001b[0m\n\u001b[1;32m    713\u001b[0m \u001b[0;34m\u001b[0m\u001b[0m\n",
            "\u001b[0;32m/usr/local/lib/python3.6/dist-packages/sklearn/linear_model/_stochastic_gradient.py\u001b[0m in \u001b[0;36m_fit\u001b[0;34m(self, X, y, alpha, C, loss, learning_rate, coef_init, intercept_init, sample_weight)\u001b[0m\n\u001b[1;32m    548\u001b[0m \u001b[0;34m\u001b[0m\u001b[0m\n\u001b[1;32m    549\u001b[0m         self._partial_fit(X, y, alpha, C, loss, learning_rate, self.max_iter,\n\u001b[0;32m--> 550\u001b[0;31m                           classes, sample_weight, coef_init, intercept_init)\n\u001b[0m\u001b[1;32m    551\u001b[0m \u001b[0;34m\u001b[0m\u001b[0m\n\u001b[1;32m    552\u001b[0m         if (self.tol is not None and self.tol > -np.inf\n",
            "\u001b[0;32m/usr/local/lib/python3.6/dist-packages/sklearn/linear_model/_stochastic_gradient.py\u001b[0m in \u001b[0;36m_partial_fit\u001b[0;34m(self, X, y, alpha, C, loss, learning_rate, max_iter, classes, sample_weight, coef_init, intercept_init)\u001b[0m\n\u001b[1;32m    503\u001b[0m                                  \u001b[0mlearning_rate\u001b[0m\u001b[0;34m=\u001b[0m\u001b[0mlearning_rate\u001b[0m\u001b[0;34m,\u001b[0m\u001b[0;34m\u001b[0m\u001b[0;34m\u001b[0m\u001b[0m\n\u001b[1;32m    504\u001b[0m                                  \u001b[0msample_weight\u001b[0m\u001b[0;34m=\u001b[0m\u001b[0msample_weight\u001b[0m\u001b[0;34m,\u001b[0m\u001b[0;34m\u001b[0m\u001b[0;34m\u001b[0m\u001b[0m\n\u001b[0;32m--> 505\u001b[0;31m                                  max_iter=max_iter)\n\u001b[0m\u001b[1;32m    506\u001b[0m         \u001b[0;32melif\u001b[0m \u001b[0mn_classes\u001b[0m \u001b[0;34m==\u001b[0m \u001b[0;36m2\u001b[0m\u001b[0;34m:\u001b[0m\u001b[0;34m\u001b[0m\u001b[0;34m\u001b[0m\u001b[0m\n\u001b[1;32m    507\u001b[0m             self._fit_binary(X, y, alpha=alpha, C=C,\n",
            "\u001b[0;32m/usr/local/lib/python3.6/dist-packages/sklearn/linear_model/_stochastic_gradient.py\u001b[0m in \u001b[0;36m_fit_multiclass\u001b[0;34m(self, X, y, alpha, C, learning_rate, sample_weight, max_iter)\u001b[0m\n\u001b[1;32m    609\u001b[0m                                 \u001b[0mvalidation_mask\u001b[0m\u001b[0;34m=\u001b[0m\u001b[0mvalidation_mask\u001b[0m\u001b[0;34m,\u001b[0m\u001b[0;34m\u001b[0m\u001b[0;34m\u001b[0m\u001b[0m\n\u001b[1;32m    610\u001b[0m                                 random_state=seed)\n\u001b[0;32m--> 611\u001b[0;31m             for i, seed in enumerate(seeds))\n\u001b[0m\u001b[1;32m    612\u001b[0m \u001b[0;34m\u001b[0m\u001b[0m\n\u001b[1;32m    613\u001b[0m         \u001b[0;31m# take the maximum of n_iter_ over every binary fit\u001b[0m\u001b[0;34m\u001b[0m\u001b[0;34m\u001b[0m\u001b[0;34m\u001b[0m\u001b[0m\n",
            "\u001b[0;32m/usr/local/lib/python3.6/dist-packages/joblib/parallel.py\u001b[0m in \u001b[0;36m__call__\u001b[0;34m(self, iterable)\u001b[0m\n\u001b[1;32m   1030\u001b[0m                 \u001b[0mself\u001b[0m\u001b[0;34m.\u001b[0m\u001b[0m_iterating\u001b[0m \u001b[0;34m=\u001b[0m \u001b[0mself\u001b[0m\u001b[0;34m.\u001b[0m\u001b[0m_original_iterator\u001b[0m \u001b[0;32mis\u001b[0m \u001b[0;32mnot\u001b[0m \u001b[0;32mNone\u001b[0m\u001b[0;34m\u001b[0m\u001b[0;34m\u001b[0m\u001b[0m\n\u001b[1;32m   1031\u001b[0m \u001b[0;34m\u001b[0m\u001b[0m\n\u001b[0;32m-> 1032\u001b[0;31m             \u001b[0;32mwhile\u001b[0m \u001b[0mself\u001b[0m\u001b[0;34m.\u001b[0m\u001b[0mdispatch_one_batch\u001b[0m\u001b[0;34m(\u001b[0m\u001b[0miterator\u001b[0m\u001b[0;34m)\u001b[0m\u001b[0;34m:\u001b[0m\u001b[0;34m\u001b[0m\u001b[0;34m\u001b[0m\u001b[0m\n\u001b[0m\u001b[1;32m   1033\u001b[0m                 \u001b[0;32mpass\u001b[0m\u001b[0;34m\u001b[0m\u001b[0;34m\u001b[0m\u001b[0m\n\u001b[1;32m   1034\u001b[0m \u001b[0;34m\u001b[0m\u001b[0m\n",
            "\u001b[0;32m/usr/local/lib/python3.6/dist-packages/joblib/parallel.py\u001b[0m in \u001b[0;36mdispatch_one_batch\u001b[0;34m(self, iterator)\u001b[0m\n\u001b[1;32m    845\u001b[0m                 \u001b[0;32mreturn\u001b[0m \u001b[0;32mFalse\u001b[0m\u001b[0;34m\u001b[0m\u001b[0;34m\u001b[0m\u001b[0m\n\u001b[1;32m    846\u001b[0m             \u001b[0;32melse\u001b[0m\u001b[0;34m:\u001b[0m\u001b[0;34m\u001b[0m\u001b[0;34m\u001b[0m\u001b[0m\n\u001b[0;32m--> 847\u001b[0;31m                 \u001b[0mself\u001b[0m\u001b[0;34m.\u001b[0m\u001b[0m_dispatch\u001b[0m\u001b[0;34m(\u001b[0m\u001b[0mtasks\u001b[0m\u001b[0;34m)\u001b[0m\u001b[0;34m\u001b[0m\u001b[0;34m\u001b[0m\u001b[0m\n\u001b[0m\u001b[1;32m    848\u001b[0m                 \u001b[0;32mreturn\u001b[0m \u001b[0;32mTrue\u001b[0m\u001b[0;34m\u001b[0m\u001b[0;34m\u001b[0m\u001b[0m\n\u001b[1;32m    849\u001b[0m \u001b[0;34m\u001b[0m\u001b[0m\n",
            "\u001b[0;32m/usr/local/lib/python3.6/dist-packages/joblib/parallel.py\u001b[0m in \u001b[0;36m_dispatch\u001b[0;34m(self, batch)\u001b[0m\n\u001b[1;32m    763\u001b[0m         \u001b[0;32mwith\u001b[0m \u001b[0mself\u001b[0m\u001b[0;34m.\u001b[0m\u001b[0m_lock\u001b[0m\u001b[0;34m:\u001b[0m\u001b[0;34m\u001b[0m\u001b[0;34m\u001b[0m\u001b[0m\n\u001b[1;32m    764\u001b[0m             \u001b[0mjob_idx\u001b[0m \u001b[0;34m=\u001b[0m \u001b[0mlen\u001b[0m\u001b[0;34m(\u001b[0m\u001b[0mself\u001b[0m\u001b[0;34m.\u001b[0m\u001b[0m_jobs\u001b[0m\u001b[0;34m)\u001b[0m\u001b[0;34m\u001b[0m\u001b[0;34m\u001b[0m\u001b[0m\n\u001b[0;32m--> 765\u001b[0;31m             \u001b[0mjob\u001b[0m \u001b[0;34m=\u001b[0m \u001b[0mself\u001b[0m\u001b[0;34m.\u001b[0m\u001b[0m_backend\u001b[0m\u001b[0;34m.\u001b[0m\u001b[0mapply_async\u001b[0m\u001b[0;34m(\u001b[0m\u001b[0mbatch\u001b[0m\u001b[0;34m,\u001b[0m \u001b[0mcallback\u001b[0m\u001b[0;34m=\u001b[0m\u001b[0mcb\u001b[0m\u001b[0;34m)\u001b[0m\u001b[0;34m\u001b[0m\u001b[0;34m\u001b[0m\u001b[0m\n\u001b[0m\u001b[1;32m    766\u001b[0m             \u001b[0;31m# A job can complete so quickly than its callback is\u001b[0m\u001b[0;34m\u001b[0m\u001b[0;34m\u001b[0m\u001b[0;34m\u001b[0m\u001b[0m\n\u001b[1;32m    767\u001b[0m             \u001b[0;31m# called before we get here, causing self._jobs to\u001b[0m\u001b[0;34m\u001b[0m\u001b[0;34m\u001b[0m\u001b[0;34m\u001b[0m\u001b[0m\n",
            "\u001b[0;32m/usr/local/lib/python3.6/dist-packages/joblib/_parallel_backends.py\u001b[0m in \u001b[0;36mapply_async\u001b[0;34m(self, func, callback)\u001b[0m\n\u001b[1;32m    206\u001b[0m     \u001b[0;32mdef\u001b[0m \u001b[0mapply_async\u001b[0m\u001b[0;34m(\u001b[0m\u001b[0mself\u001b[0m\u001b[0;34m,\u001b[0m \u001b[0mfunc\u001b[0m\u001b[0;34m,\u001b[0m \u001b[0mcallback\u001b[0m\u001b[0;34m=\u001b[0m\u001b[0;32mNone\u001b[0m\u001b[0;34m)\u001b[0m\u001b[0;34m:\u001b[0m\u001b[0;34m\u001b[0m\u001b[0;34m\u001b[0m\u001b[0m\n\u001b[1;32m    207\u001b[0m         \u001b[0;34m\"\"\"Schedule a func to be run\"\"\"\u001b[0m\u001b[0;34m\u001b[0m\u001b[0;34m\u001b[0m\u001b[0m\n\u001b[0;32m--> 208\u001b[0;31m         \u001b[0mresult\u001b[0m \u001b[0;34m=\u001b[0m \u001b[0mImmediateResult\u001b[0m\u001b[0;34m(\u001b[0m\u001b[0mfunc\u001b[0m\u001b[0;34m)\u001b[0m\u001b[0;34m\u001b[0m\u001b[0;34m\u001b[0m\u001b[0m\n\u001b[0m\u001b[1;32m    209\u001b[0m         \u001b[0;32mif\u001b[0m \u001b[0mcallback\u001b[0m\u001b[0;34m:\u001b[0m\u001b[0;34m\u001b[0m\u001b[0;34m\u001b[0m\u001b[0m\n\u001b[1;32m    210\u001b[0m             \u001b[0mcallback\u001b[0m\u001b[0;34m(\u001b[0m\u001b[0mresult\u001b[0m\u001b[0;34m)\u001b[0m\u001b[0;34m\u001b[0m\u001b[0;34m\u001b[0m\u001b[0m\n",
            "\u001b[0;32m/usr/local/lib/python3.6/dist-packages/joblib/_parallel_backends.py\u001b[0m in \u001b[0;36m__init__\u001b[0;34m(self, batch)\u001b[0m\n\u001b[1;32m    570\u001b[0m         \u001b[0;31m# Don't delay the application, to avoid keeping the input\u001b[0m\u001b[0;34m\u001b[0m\u001b[0;34m\u001b[0m\u001b[0;34m\u001b[0m\u001b[0m\n\u001b[1;32m    571\u001b[0m         \u001b[0;31m# arguments in memory\u001b[0m\u001b[0;34m\u001b[0m\u001b[0;34m\u001b[0m\u001b[0;34m\u001b[0m\u001b[0m\n\u001b[0;32m--> 572\u001b[0;31m         \u001b[0mself\u001b[0m\u001b[0;34m.\u001b[0m\u001b[0mresults\u001b[0m \u001b[0;34m=\u001b[0m \u001b[0mbatch\u001b[0m\u001b[0;34m(\u001b[0m\u001b[0;34m)\u001b[0m\u001b[0;34m\u001b[0m\u001b[0;34m\u001b[0m\u001b[0m\n\u001b[0m\u001b[1;32m    573\u001b[0m \u001b[0;34m\u001b[0m\u001b[0m\n\u001b[1;32m    574\u001b[0m     \u001b[0;32mdef\u001b[0m \u001b[0mget\u001b[0m\u001b[0;34m(\u001b[0m\u001b[0mself\u001b[0m\u001b[0;34m)\u001b[0m\u001b[0;34m:\u001b[0m\u001b[0;34m\u001b[0m\u001b[0;34m\u001b[0m\u001b[0m\n",
            "\u001b[0;32m/usr/local/lib/python3.6/dist-packages/joblib/parallel.py\u001b[0m in \u001b[0;36m__call__\u001b[0;34m(self)\u001b[0m\n\u001b[1;32m    251\u001b[0m         \u001b[0;32mwith\u001b[0m \u001b[0mparallel_backend\u001b[0m\u001b[0;34m(\u001b[0m\u001b[0mself\u001b[0m\u001b[0;34m.\u001b[0m\u001b[0m_backend\u001b[0m\u001b[0;34m,\u001b[0m \u001b[0mn_jobs\u001b[0m\u001b[0;34m=\u001b[0m\u001b[0mself\u001b[0m\u001b[0;34m.\u001b[0m\u001b[0m_n_jobs\u001b[0m\u001b[0;34m)\u001b[0m\u001b[0;34m:\u001b[0m\u001b[0;34m\u001b[0m\u001b[0;34m\u001b[0m\u001b[0m\n\u001b[1;32m    252\u001b[0m             return [func(*args, **kwargs)\n\u001b[0;32m--> 253\u001b[0;31m                     for func, args, kwargs in self.items]\n\u001b[0m\u001b[1;32m    254\u001b[0m \u001b[0;34m\u001b[0m\u001b[0m\n\u001b[1;32m    255\u001b[0m     \u001b[0;32mdef\u001b[0m \u001b[0m__reduce__\u001b[0m\u001b[0;34m(\u001b[0m\u001b[0mself\u001b[0m\u001b[0;34m)\u001b[0m\u001b[0;34m:\u001b[0m\u001b[0;34m\u001b[0m\u001b[0;34m\u001b[0m\u001b[0m\n",
            "\u001b[0;32m/usr/local/lib/python3.6/dist-packages/joblib/parallel.py\u001b[0m in \u001b[0;36m<listcomp>\u001b[0;34m(.0)\u001b[0m\n\u001b[1;32m    251\u001b[0m         \u001b[0;32mwith\u001b[0m \u001b[0mparallel_backend\u001b[0m\u001b[0;34m(\u001b[0m\u001b[0mself\u001b[0m\u001b[0;34m.\u001b[0m\u001b[0m_backend\u001b[0m\u001b[0;34m,\u001b[0m \u001b[0mn_jobs\u001b[0m\u001b[0;34m=\u001b[0m\u001b[0mself\u001b[0m\u001b[0;34m.\u001b[0m\u001b[0m_n_jobs\u001b[0m\u001b[0;34m)\u001b[0m\u001b[0;34m:\u001b[0m\u001b[0;34m\u001b[0m\u001b[0;34m\u001b[0m\u001b[0m\n\u001b[1;32m    252\u001b[0m             return [func(*args, **kwargs)\n\u001b[0;32m--> 253\u001b[0;31m                     for func, args, kwargs in self.items]\n\u001b[0m\u001b[1;32m    254\u001b[0m \u001b[0;34m\u001b[0m\u001b[0m\n\u001b[1;32m    255\u001b[0m     \u001b[0;32mdef\u001b[0m \u001b[0m__reduce__\u001b[0m\u001b[0;34m(\u001b[0m\u001b[0mself\u001b[0m\u001b[0;34m)\u001b[0m\u001b[0;34m:\u001b[0m\u001b[0;34m\u001b[0m\u001b[0;34m\u001b[0m\u001b[0m\n",
            "\u001b[0;32m/usr/local/lib/python3.6/dist-packages/sklearn/linear_model/_stochastic_gradient.py\u001b[0m in \u001b[0;36mfit_binary\u001b[0;34m(est, i, X, y, alpha, C, learning_rate, max_iter, pos_weight, neg_weight, sample_weight, validation_mask, random_state)\u001b[0m\n\u001b[1;32m    407\u001b[0m                            \u001b[0mpos_weight\u001b[0m\u001b[0;34m,\u001b[0m \u001b[0mneg_weight\u001b[0m\u001b[0;34m,\u001b[0m\u001b[0;34m\u001b[0m\u001b[0;34m\u001b[0m\u001b[0m\n\u001b[1;32m    408\u001b[0m                            \u001b[0mlearning_rate_type\u001b[0m\u001b[0;34m,\u001b[0m \u001b[0mest\u001b[0m\u001b[0;34m.\u001b[0m\u001b[0meta0\u001b[0m\u001b[0;34m,\u001b[0m\u001b[0;34m\u001b[0m\u001b[0;34m\u001b[0m\u001b[0m\n\u001b[0;32m--> 409\u001b[0;31m                            est.power_t, est.t_, intercept_decay)\n\u001b[0m\u001b[1;32m    410\u001b[0m \u001b[0;34m\u001b[0m\u001b[0m\n\u001b[1;32m    411\u001b[0m     \u001b[0;32melse\u001b[0m\u001b[0;34m:\u001b[0m\u001b[0;34m\u001b[0m\u001b[0;34m\u001b[0m\u001b[0m\n",
            "\u001b[0;31mKeyboardInterrupt\u001b[0m: "
          ]
        }
      ]
    },
    {
      "cell_type": "markdown",
      "metadata": {
        "id": "uX-weFR30usi",
        "colab_type": "text"
      },
      "source": [
        "# 3.5 에러 분석\n",
        "\n",
        "1. 오차 행렬 살펴보기\n",
        "cross_val_predict() 함수를 사용해 예측을 만들고, confusion_matrix() 함수를 호출한다."
      ]
    },
    {
      "cell_type": "code",
      "metadata": {
        "id": "I0906HUyhmg4",
        "colab_type": "code",
        "colab": {}
      },
      "source": [
        "# 다중분류의 경우의 오차 행렬\n",
        "# 타깃값(y_train)과 예측 값(y_train_pred) 두개를 넣어 conf_mx를 리턴받으면 된다.\n",
        "\n",
        "y_train_pred = cross_val_predict(sgd_clf, X_train_scaled, y_train, cv=3)\n",
        "\n",
        "\n",
        "\n",
        "# 이진 분류와 마찬가지로 우측 하향 대각선 기준, 왼쪽(밑으로 갈 수록 값이 옆으로 많아짐)이 진짜일 경우,\n",
        "# 오른쪽(옆으로 갈 수록 값이 밑으로 많아짐)이 가짜일 경우이다."
      ],
      "execution_count": 72,
      "outputs": []
    },
    {
      "cell_type": "code",
      "metadata": {
        "id": "WK8wUydc9Vcm",
        "colab_type": "code",
        "colab": {}
      },
      "source": [
        "conf_mx = confusion_matrix(y_train, y_train_pred)"
      ],
      "execution_count": 73,
      "outputs": []
    },
    {
      "cell_type": "code",
      "metadata": {
        "id": "GrMsW7lE6wus",
        "colab_type": "code",
        "colab": {
          "base_uri": "https://localhost:8080/",
          "height": 185
        },
        "outputId": "3bf27480-de28-49c5-f2ab-5b6416f64238"
      },
      "source": [
        "conf_mx"
      ],
      "execution_count": 74,
      "outputs": [
        {
          "output_type": "execute_result",
          "data": {
            "text/plain": [
              "array([[5577,    0,   22,    5,    8,   43,   36,    6,  225,    1],\n",
              "       [   0, 6400,   37,   24,    4,   44,    4,    7,  212,   10],\n",
              "       [  27,   27, 5220,   92,   73,   27,   67,   36,  378,   11],\n",
              "       [  22,   17,  117, 5227,    2,  203,   27,   40,  403,   73],\n",
              "       [  12,   14,   41,    9, 5182,   12,   34,   27,  347,  164],\n",
              "       [  27,   15,   30,  168,   53, 4444,   75,   14,  535,   60],\n",
              "       [  30,   15,   42,    3,   44,   97, 5552,    3,  131,    1],\n",
              "       [  21,   10,   51,   30,   49,   12,    3, 5684,  195,  210],\n",
              "       [  17,   63,   48,   86,    3,  126,   25,   10, 5429,   44],\n",
              "       [  25,   18,   30,   64,  118,   36,    1,  179,  371, 5107]])"
            ]
          },
          "metadata": {
            "tags": []
          },
          "execution_count": 74
        }
      ]
    },
    {
      "cell_type": "code",
      "metadata": {
        "id": "SlVZTZbx0G5o",
        "colab_type": "code",
        "colab": {}
      },
      "source": [
        "# 매트릭스로 보면 좀 더 편리하게 볼 때가 있다.\n",
        "# 이미지가 우측 하향 대각선이므로(주대각선) 대부분의 이미지가 올바르게 분류된 것이다.\n",
        "\n",
        "def plot_confusion_matrix(matrix):\n",
        "  \"\"\"If you prefer color and a colorbar\"\"\"\n",
        "  fig = plt.figure(figsize=(8,8))\n",
        "  ax = fig.add_subplot(111)\n",
        "  cax = ax.matshow(matrix)\n",
        "  fig.colorbar(cax)"
      ],
      "execution_count": 75,
      "outputs": []
    },
    {
      "cell_type": "code",
      "metadata": {
        "id": "6OA6Xoex0HpN",
        "colab_type": "code",
        "colab": {
          "base_uri": "https://localhost:8080/",
          "height": 490
        },
        "outputId": "0b9e4c40-9161-49f9-a398-3414371dee2e"
      },
      "source": [
        "plt.matshow(conf_mx, cmap=plt.cm.gray)  \n",
        "save_fig(\"confusion_matrix_plot\", tight_layout=False)\n",
        "plt.show()\n",
        "\n",
        "# gray로 설정: 배열에서 가장 큰 값은 흰 색, 작은 값은 검은색으로 그려진다.\n",
        "# 5가 좀 어두워보이는데, 데이터셋에 5의 이미지가 적거나, 분류기가 숫자 5를 다른 수처럼 잘 분류 못한다는 뜻\n",
        "# 두개 다 확인해 봐야하는 부분..."
      ],
      "execution_count": 76,
      "outputs": [
        {
          "output_type": "error",
          "ename": "NameError",
          "evalue": "ignored",
          "traceback": [
            "\u001b[0;31m---------------------------------------------------------------------------\u001b[0m",
            "\u001b[0;31mNameError\u001b[0m                                 Traceback (most recent call last)",
            "\u001b[0;32m<ipython-input-76-f4e3e617bca6>\u001b[0m in \u001b[0;36m<module>\u001b[0;34m()\u001b[0m\n\u001b[1;32m      1\u001b[0m \u001b[0mplt\u001b[0m\u001b[0;34m.\u001b[0m\u001b[0mmatshow\u001b[0m\u001b[0;34m(\u001b[0m\u001b[0mconf_mx\u001b[0m\u001b[0;34m,\u001b[0m \u001b[0mcmap\u001b[0m\u001b[0;34m=\u001b[0m\u001b[0mplt\u001b[0m\u001b[0;34m.\u001b[0m\u001b[0mcm\u001b[0m\u001b[0;34m.\u001b[0m\u001b[0mgray\u001b[0m\u001b[0;34m)\u001b[0m\u001b[0;34m\u001b[0m\u001b[0;34m\u001b[0m\u001b[0m\n\u001b[0;32m----> 2\u001b[0;31m \u001b[0msave_fig\u001b[0m\u001b[0;34m(\u001b[0m\u001b[0;34m\"confusion_matrix_plot\"\u001b[0m\u001b[0;34m,\u001b[0m \u001b[0mtight_layout\u001b[0m\u001b[0;34m=\u001b[0m\u001b[0;32mFalse\u001b[0m\u001b[0;34m)\u001b[0m\u001b[0;34m\u001b[0m\u001b[0;34m\u001b[0m\u001b[0m\n\u001b[0m\u001b[1;32m      3\u001b[0m \u001b[0mplt\u001b[0m\u001b[0;34m.\u001b[0m\u001b[0mshow\u001b[0m\u001b[0;34m(\u001b[0m\u001b[0;34m)\u001b[0m\u001b[0;34m\u001b[0m\u001b[0;34m\u001b[0m\u001b[0m\n\u001b[1;32m      4\u001b[0m \u001b[0;34m\u001b[0m\u001b[0m\n\u001b[1;32m      5\u001b[0m \u001b[0;31m# gray로 설정: 배열에서 가장 큰 값은 흰 색, 작은 값은 검은색으로 그려진다.\u001b[0m\u001b[0;34m\u001b[0m\u001b[0;34m\u001b[0m\u001b[0;34m\u001b[0m\u001b[0m\n",
            "\u001b[0;31mNameError\u001b[0m: name 'save_fig' is not defined"
          ]
        },
        {
          "output_type": "display_data",
          "data": {
            "image/png": "[encoded data removed]",
            "text/plain": [
              "<Figure size 288x288 with 1 Axes>"
            ]
          },
          "metadata": {
            "tags": [],
            "needs_background": "light"
          }
        }
      ]
    },
    {
      "cell_type": "code",
      "metadata": {
        "id": "BgyJ6HGh3Ew_",
        "colab_type": "code",
        "colab": {}
      },
      "source": [
        "row_sums = conf_mx.sum(axis=1, keepdims=True)  # 각 행의 값을 더해줘, 그걸 norm_conf_mx에다가 나누셈\n",
        "norm_conf_mx = conf_mx/row_sums    # 비율"
      ],
      "execution_count": 80,
      "outputs": []
    },
    {
      "cell_type": "code",
      "metadata": {
        "id": "srvlREAp2Ea6",
        "colab_type": "code",
        "colab": {
          "base_uri": "https://localhost:8080/",
          "height": 473
        },
        "outputId": "d348da5f-4455-4042-bf66-a94176afbeca"
      },
      "source": [
        "# 8로 잘못 생각한게 되게 많은...\n",
        "# 진짜 3인 수를 5로 착각\n",
        "# 진짜 5를 3으로 착각\n",
        "# 3과 5는 자주 혼돈이 되는 이미지라는 것을 확인가능\n",
        "\n",
        "np.fill_diagonal(norm_conf_mx, 0)\n",
        "plt.matshow(norm_conf_mx, cmap=plt.cm.gray)\n",
        "save_fig(\"confusion_matrix_errors_plot\", tight_layout=False)\n",
        "plt.show()"
      ],
      "execution_count": 81,
      "outputs": [
        {
          "output_type": "error",
          "ename": "NameError",
          "evalue": "ignored",
          "traceback": [
            "\u001b[0;31m---------------------------------------------------------------------------\u001b[0m",
            "\u001b[0;31mNameError\u001b[0m                                 Traceback (most recent call last)",
            "\u001b[0;32m<ipython-input-81-40f6d3d7dcfd>\u001b[0m in \u001b[0;36m<module>\u001b[0;34m()\u001b[0m\n\u001b[1;32m      3\u001b[0m \u001b[0mnp\u001b[0m\u001b[0;34m.\u001b[0m\u001b[0mfill_diagonal\u001b[0m\u001b[0;34m(\u001b[0m\u001b[0mnorm_conf_mx\u001b[0m\u001b[0;34m,\u001b[0m \u001b[0;36m0\u001b[0m\u001b[0;34m)\u001b[0m\u001b[0;34m\u001b[0m\u001b[0;34m\u001b[0m\u001b[0m\n\u001b[1;32m      4\u001b[0m \u001b[0mplt\u001b[0m\u001b[0;34m.\u001b[0m\u001b[0mmatshow\u001b[0m\u001b[0;34m(\u001b[0m\u001b[0mnorm_conf_mx\u001b[0m\u001b[0;34m,\u001b[0m \u001b[0mcmap\u001b[0m\u001b[0;34m=\u001b[0m\u001b[0mplt\u001b[0m\u001b[0;34m.\u001b[0m\u001b[0mcm\u001b[0m\u001b[0;34m.\u001b[0m\u001b[0mgray\u001b[0m\u001b[0;34m)\u001b[0m\u001b[0;34m\u001b[0m\u001b[0;34m\u001b[0m\u001b[0m\n\u001b[0;32m----> 5\u001b[0;31m \u001b[0msave_fig\u001b[0m\u001b[0;34m(\u001b[0m\u001b[0;34m\"confusion_matrix_errors_plot\"\u001b[0m\u001b[0;34m,\u001b[0m \u001b[0mtight_layout\u001b[0m\u001b[0;34m=\u001b[0m\u001b[0;32mFalse\u001b[0m\u001b[0;34m)\u001b[0m\u001b[0;34m\u001b[0m\u001b[0;34m\u001b[0m\u001b[0m\n\u001b[0m\u001b[1;32m      6\u001b[0m \u001b[0mplt\u001b[0m\u001b[0;34m.\u001b[0m\u001b[0mshow\u001b[0m\u001b[0;34m(\u001b[0m\u001b[0;34m)\u001b[0m\u001b[0;34m\u001b[0m\u001b[0;34m\u001b[0m\u001b[0m\n",
            "\u001b[0;31mNameError\u001b[0m: name 'save_fig' is not defined"
          ]
        },
        {
          "output_type": "display_data",
          "data": {
            "image/png": "[encoded data removed]",
            "text/plain": [
              "<Figure size 288x288 with 1 Axes>"
            ]
          },
          "metadata": {
            "tags": [],
            "needs_background": "light"
          }
        }
      ]
    },
    {
      "cell_type": "code",
      "metadata": {
        "id": "V1vu-32SB5hw",
        "colab_type": "code",
        "colab": {
          "base_uri": "https://localhost:8080/",
          "height": 466
        },
        "outputId": "cc6c459d-ed90-4e1d-ae8d-6e19b97b23b3"
      },
      "source": [
        "cl_a, cl_b = 3,5\n",
        "X_aa = X_train[(y_train == cl_a) & (y_train_pred == cl_a)]\n",
        "X_ab = X_train[(y_train == cl_a) & (y_train_pred == cl_b)]\n",
        "X_ba = X_train[(y_train == cl_b) & (y_train_pred == cl_a)]\n",
        "X_bb = X_train[(y_train == cl_b) & (y_train_pred == cl_b)]\n",
        "\n",
        "plt.figure(figsize=(8, 8))\n",
        "plt.subplot(221); plot_digits(X_aa[:25], images_per_row=5)\n",
        "plt.subplot(222); plot_digits(X_ab[:25], images_per_row=5)\n",
        "plt.subplot(223); plot_digits(X_ba[:25], images_per_row=5)\n",
        "plt.subplot(224); plot_digits(X_bb[:25], images_per_row=5)\n",
        "\n",
        "plt.show()\n",
        "\n",
        "# 좌측 상단 3을 잘 분류\n",
        "# 우측 상단 3을 5로 잘못 분류\n",
        "# 좌측 하단 5를 3으로 잘못 분류\n",
        "# 우측 하단 5를 잘 분류"
      ],
      "execution_count": 84,
      "outputs": [
        {
          "output_type": "display_data",
          "data": {
            "image/png": "[encoded data removed]",
            "text/plain": [
              "<Figure size 576x576 with 4 Axes>"
            ]
          },
          "metadata": {
            "tags": [],
            "needs_background": "light"
          }
        }
      ]
    },
    {
      "cell_type": "markdown",
      "metadata": {
        "id": "gEY1xOb2DRcy",
        "colab_type": "text"
      },
      "source": [
        "# 3.6 다중 레이블 분류\n",
        "출력하는 레이블이 하나가 아니라 여러개일 경우를 다중 레이블 분류라고 한다.\n",
        "\n",
        "지금까지는 각 샘플이 하나의 클래스에만 할당되었으나, 분류기가 샘플마다 여러 개의 클래스를 출력해야 할 때도 있음.\n",
        "\n",
        "ex) 얼굴 인식 분류기..같은 사진에 여러 사람이 나온다.\n",
        "\n",
        "K 최근접, 결정트리 기반 모델이 다중 분류를 지원한다."
      ]
    },
    {
      "cell_type": "code",
      "metadata": {
        "id": "TgI3Z7AuC6J9",
        "colab_type": "code",
        "colab": {
          "base_uri": "https://localhost:8080/",
          "height": 67
        },
        "outputId": "45844f7b-0596-4031-b4d0-59cbf1abb490"
      },
      "source": [
        "from sklearn.neighbors import KNeighborsClassifier\n",
        "\n",
        "y_train_large = (y_train >= 7)          # 타깃 값이 7보다 큰 것인지?\n",
        "y_train_odd = (y_train % 2 == 1)      # 타깃 값이 홀수인지..?  이 두개를 npc메소드로 열방향 합침 -> y_multilabel\n",
        "y_multilabel = np.c_[y_train_large, y_train_odd]\n",
        "\n",
        "knn_clf = KNeighborsClassifier()\n",
        "knn_clf.fit(X_train, y_multilabel)"
      ],
      "execution_count": 87,
      "outputs": [
        {
          "output_type": "execute_result",
          "data": {
            "text/plain": [
              "KNeighborsClassifier(algorithm='auto', leaf_size=30, metric='minkowski',\n",
              "                     metric_params=None, n_jobs=None, n_neighbors=5, p=2,\n",
              "                     weights='uniform')"
            ]
          },
          "metadata": {
            "tags": []
          },
          "execution_count": 87
        }
      ]
    },
    {
      "cell_type": "code",
      "metadata": {
        "id": "WMCu71XKEGLY",
        "colab_type": "code",
        "colab": {
          "base_uri": "https://localhost:8080/",
          "height": 34
        },
        "outputId": "e0906aad-a454-46f1-ccdd-00ca3c9da91d"
      },
      "source": [
        "knn_clf.predict([some_digit])  # 두 개의 레이블이 나오는 (5니까 잘 예측을 한 것이고)"
      ],
      "execution_count": 89,
      "outputs": [
        {
          "output_type": "execute_result",
          "data": {
            "text/plain": [
              "array([[False,  True]])"
            ]
          },
          "metadata": {
            "tags": []
          },
          "execution_count": 89
        }
      ]
    },
    {
      "cell_type": "code",
      "metadata": {
        "id": "eP1QbmfxEnNT",
        "colab_type": "code",
        "colab": {}
      },
      "source": [
        "y_train_knn_pred = cross_val_predict(knn_clf, X_train, y_multilabel, cv=3)\n",
        "f1_score(y_multilabel, y_train_knn_pred, average=\"macro\")\n",
        "\n",
        "# 시간 많이 걸림 몇시간씩...\n",
        "# 두 레이블별로 따로 f1을 계산하기 위해..평균을 내면 이게 macro\n",
        "\n",
        "# 'weighted' 는 macro랑 같은데 샘플 수 로 가중\n",
        "# 'micro' 모든 레이블별로 fntp를 더해서 f1 스코어를 계산"
      ],
      "execution_count": null,
      "outputs": []
    },
    {
      "cell_type": "markdown",
      "metadata": {
        "id": "Hp0sQ-ifF6sK",
        "colab_type": "text"
      },
      "source": [
        "# 3.7 다중 출력 분류\n",
        "다중 레이블 분류에서 한 레이블이 다중 클래스가 될 수 있도록 일반화한 것으로, 값을 2개 이상 가질 수 있다.\n",
        "\n",
        "이미지에서 잡음을 제거하는 시스템을 만들어보자."
      ]
    },
    {
      "cell_type": "code",
      "metadata": {
        "id": "Tz_chhRhFIek",
        "colab_type": "code",
        "colab": {}
      },
      "source": [
        "noise = np.random.randint(0, 100, (len(X_train), 784))    \n",
        "# 784개의 레이블이 나오는 것이고, 0부터 255까지의 픽셀 값이 나온다.\n",
        "X_train_mod = X_train + noise   # X_train에 noise 를 섞었다\n",
        "noise = np.random.randint(0, 100, (len(X_test), 784))\n",
        "X_test_mod = X_test + noise     # X_test에 noise 를 섞었다\n",
        "\n",
        "y_train_mod = X_train   # 자기 자신을 타깃으로 두고 훈련 시작\n",
        "y_test_mod = X_test "
      ],
      "execution_count": 95,
      "outputs": []
    },
    {
      "cell_type": "code",
      "metadata": {
        "id": "p9t8CsgHGlQ_",
        "colab_type": "code",
        "colab": {
          "base_uri": "https://localhost:8080/",
          "height": 183
        },
        "outputId": "62898ad2-0f09-441a-f0cf-8d4da77b437c"
      },
      "source": [
        "some_index = 0\n",
        "plt.subplot(121); plot_digit(X_test_mod[some_index])\n",
        "plt.subplot(122); plot_digit(y_test_mod[some_index])\n",
        "\n",
        "plt.show()\n",
        "\n",
        "# 왼쪽이 만든 타깃\n",
        "# 오른쪽이 원본"
      ],
      "execution_count": 92,
      "outputs": [
        {
          "output_type": "display_data",
          "data": {
            "image/png": "[encoded data removed]",
            "text/plain": [
              "<Figure size 432x288 with 2 Axes>"
            ]
          },
          "metadata": {
            "tags": [],
            "needs_background": "light"
          }
        }
      ]
    },
    {
      "cell_type": "code",
      "metadata": {
        "id": "tmzTadHjHNLP",
        "colab_type": "code",
        "colab": {
          "base_uri": "https://localhost:8080/",
          "height": 248
        },
        "outputId": "5e6f27a0-f312-43e3-ba0d-e44c8516f916"
      },
      "source": [
        "# 분류기를 훈련 시켜 이미지를 깨끗하게 만들어보자\n",
        "\n",
        "knn_clf.fit(X_train_mod, y_train_mod)\n",
        "clean_digit = knn_clf.predict([X_test_mod[some_index]])\n",
        "plot_digit(clean_digit)\n",
        "\n",
        "# 가까운 이웃의 타깃값의 픽셀 평균을 내서 훈련 하는 것."
      ],
      "execution_count": 96,
      "outputs": [
        {
          "output_type": "display_data",
          "data": {
            "image/png": "[encoded data removed]",
            "text/plain": [
              "<Figure size 432x288 with 1 Axes>"
            ]
          },
          "metadata": {
            "tags": [],
            "needs_background": "light"
          }
        }
      ]
    },
    {
      "cell_type": "markdown",
      "metadata": {
        "id": "1Tp18h9hJEyV",
        "colab_type": "text"
      },
      "source": [
        "# 추가 내용\n",
        "## 더미 분류기\n",
        " 다른 모델과 비교하거나 베이스 모델로 비교하기 좋으므로 써보자!"
      ]
    },
    {
      "cell_type": "code",
      "metadata": {
        "id": "E2Pi_uMSIsZ0",
        "colab_type": "code",
        "colab": {}
      },
      "source": [
        "from sklearn.dummy import DummyClassifier\n",
        "\n",
        "dmy_clf = DummyClassifier(strategy = 'stratified')   # prior로 하게 되면 음성클래스의 확률 출력\n",
        "y_probas_dmy = cross_val_predict(dmy_clf, X_train, y_train_5, cv=3, method=\"predict_proba\")\n",
        "y_scores_dmy = y_probas_dmy[:, 1]"
      ],
      "execution_count": 97,
      "outputs": []
    },
    {
      "cell_type": "code",
      "metadata": {
        "id": "tfWDHnjlJsDL",
        "colab_type": "code",
        "colab": {
          "base_uri": "https://localhost:8080/",
          "height": 284
        },
        "outputId": "4974194d-9fbb-420c-9ede-032fe3544170"
      },
      "source": [
        "fprr, tprr, thresholdsr = roc_curve(y_train_5, y_scores_dmy)\n",
        "plot_roc_curve(fprr, tprr)"
      ],
      "execution_count": 98,
      "outputs": [
        {
          "output_type": "display_data",
          "data": {
            "image/png": "[encoded data removed]",
            "text/plain": [
              "<Figure size 432x288 with 1 Axes>"
            ]
          },
          "metadata": {
            "tags": [],
            "needs_background": "light"
          }
        }
      ]
    },
    {
      "cell_type": "markdown",
      "metadata": {
        "id": "C29k2MJBKCnI",
        "colab_type": "text"
      },
      "source": [
        "## KNN 분류기"
      ]
    },
    {
      "cell_type": "code",
      "metadata": {
        "id": "msLACsSNJ_tI",
        "colab_type": "code",
        "colab": {
          "base_uri": "https://localhost:8080/",
          "height": 67
        },
        "outputId": "89d4e1a1-43c8-4f3c-e93f-7f786621aad4"
      },
      "source": [
        "from sklearn.neighbors import KNeighborsClassifier\n",
        "\n",
        "knn_clf = KNeighborsClassifier(weights='distance', n_neighbors=4)  # 가까이 있는 값에 가중치 두는 weight='distance\n",
        "knn_clf.fit(X_train, y_train)"
      ],
      "execution_count": 100,
      "outputs": [
        {
          "output_type": "execute_result",
          "data": {
            "text/plain": [
              "KNeighborsClassifier(algorithm='auto', leaf_size=30, metric='minkowski',\n",
              "                     metric_params=None, n_jobs=None, n_neighbors=4, p=2,\n",
              "                     weights='distance')"
            ]
          },
          "metadata": {
            "tags": []
          },
          "execution_count": 100
        }
      ]
    },
    {
      "cell_type": "code",
      "metadata": {
        "id": "e46UeRhCKcbE",
        "colab_type": "code",
        "colab": {}
      },
      "source": [
        "y_knn_pred = knn_clf.predict(X_test)"
      ],
      "execution_count": 101,
      "outputs": []
    },
    {
      "cell_type": "code",
      "metadata": {
        "id": "RTrlSIwtKrd0",
        "colab_type": "code",
        "colab": {
          "base_uri": "https://localhost:8080/",
          "height": 34
        },
        "outputId": "9d7efd58-fed6-42c7-ef69-1db7d2c91e5c"
      },
      "source": [
        "from sklearn.metrics import accuracy_score\n",
        "accuracy_score(y_test, y_knn_pred)"
      ],
      "execution_count": 102,
      "outputs": [
        {
          "output_type": "execute_result",
          "data": {
            "text/plain": [
              "0.9714"
            ]
          },
          "metadata": {
            "tags": []
          },
          "execution_count": 102
        }
      ]
    },
    {
      "cell_type": "code",
      "metadata": {
        "id": "cGHBMrpFKzTd",
        "colab_type": "code",
        "colab": {
          "base_uri": "https://localhost:8080/",
          "height": 248
        },
        "outputId": "4cdb7cf3-ded4-4961-b9a2-fe27c6f58b4e"
      },
      "source": [
        "from scipy.ndimage.interpolation import shift\n",
        "\n",
        "def shift_digit(digit_array, dx, dy, new=0):\n",
        "  return shift(digit_array.reshape(28, 28), [dy, dx], cval=new).reshape(784)\n",
        "\n",
        "plot_digit(shift_digit(some_digit, 5, 1, new=100))\n",
        "\n",
        "\n",
        "# 이미지를 조금씩 이동하는 메소드\n",
        "# 오차율, 위치에 덜 민감한 모델을 만들 수 있대"
      ],
      "execution_count": 103,
      "outputs": [
        {
          "output_type": "display_data",
          "data": {
            "image/png": "[encoded data removed]",
            "text/plain": [
              "<Figure size 432x288 with 1 Axes>"
            ]
          },
          "metadata": {
            "tags": [],
            "needs_background": "light"
          }
        }
      ]
    },
    {
      "cell_type": "code",
      "metadata": {
        "id": "KmTXDFYULoJh",
        "colab_type": "code",
        "colab": {
          "base_uri": "https://localhost:8080/",
          "height": 34
        },
        "outputId": "97592f0c-c112-4a79-bbc9-baf39ca04a00"
      },
      "source": [
        "X_train_expanded = [X_train] \n",
        "y_train_expanded = [y_train]   # 훈련 세트 전체에다가 원본 세트 넣고\n",
        "for dx, dy in ((1, 0), (-1, 0), (0, 1), (0, -1)):    # 원본 세트를 4번 이동하기\n",
        "  shifted_images = np.apply_along_axis(shift_digit, axis=1, arr=X_train, dx=dx, dy=dy)\n",
        "  X_train_expanded.append(shifted_images)\n",
        "  y_train_expanded.append(y_train)    # 60000개였는데 30만개로 늘어남\n",
        "\n",
        "X_train_expanded = np.concatenate(X_train_expanded)\n",
        "y_train_expanded = np.concatenate(y_train_expanded)\n",
        "\n",
        "X_train_expanded.shape, y_train_expanded.shape"
      ],
      "execution_count": 105,
      "outputs": [
        {
          "output_type": "execute_result",
          "data": {
            "text/plain": [
              "((300000, 784), (300000,))"
            ]
          },
          "metadata": {
            "tags": []
          },
          "execution_count": 105
        }
      ]
    },
    {
      "cell_type": "code",
      "metadata": {
        "id": "4o4UVH3KPQwG",
        "colab_type": "code",
        "colab": {
          "base_uri": "https://localhost:8080/",
          "height": 67
        },
        "outputId": "1e06be31-2ab2-4d9b-95d0-2f12ef3b4c46"
      },
      "source": [
        "knn_clf.fit(X_train_expanded, y_train_expanded)"
      ],
      "execution_count": 106,
      "outputs": [
        {
          "output_type": "execute_result",
          "data": {
            "text/plain": [
              "KNeighborsClassifier(algorithm='auto', leaf_size=30, metric='minkowski',\n",
              "                     metric_params=None, n_jobs=None, n_neighbors=4, p=2,\n",
              "                     weights='distance')"
            ]
          },
          "metadata": {
            "tags": []
          },
          "execution_count": 106
        }
      ]
    },
    {
      "cell_type": "code",
      "metadata": {
        "id": "q04tPtrBZtf4",
        "colab_type": "code",
        "colab": {}
      },
      "source": [
        "# y_knn_expanded_pred = knn_clf.predict(X_test)"
      ],
      "execution_count": null,
      "outputs": []
    },
    {
      "cell_type": "code",
      "metadata": {
        "id": "2ZPlqhSaZ0HU",
        "colab_type": "code",
        "colab": {}
      },
      "source": [
        "#accuracy_score(y_test, Y_knn_expanded_pred)\n",
        "\n",
        "# 점수도 뽑아보고"
      ],
      "execution_count": null,
      "outputs": []
    },
    {
      "cell_type": "code",
      "metadata": {
        "id": "9uoEwpFzQKZv",
        "colab_type": "code",
        "colab": {}
      },
      "source": [
        "# ambiguous_digit = X_test[2589]\n",
        "# knn_clf.predict_proba([ambiguous_digit])  # 애매한 숫자에 대한 확률값도 출력해보고"
      ],
      "execution_count": null,
      "outputs": []
    },
    {
      "cell_type": "code",
      "metadata": {
        "id": "ru_MZ0UvQKWw",
        "colab_type": "code",
        "colab": {}
      },
      "source": [
        "# plot_digit(ambiguous_digit)"
      ],
      "execution_count": null,
      "outputs": []
    },
    {
      "cell_type": "code",
      "metadata": {
        "id": "14eh2ArCQaAo",
        "colab_type": "code",
        "colab": {}
      },
      "source": [
        ""
      ],
      "execution_count": null,
      "outputs": []
    }
  ]
}